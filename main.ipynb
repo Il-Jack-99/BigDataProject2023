{
 "cells": [
  {
   "cell_type": "code",
   "execution_count": 1,
   "metadata": {},
   "outputs": [],
   "source": [
    "import pyspark\n",
    "import os\n",
    "sc = pyspark.SparkContext(appName=\"BigDataProject\")"
   ]
  },
  {
   "cell_type": "code",
   "execution_count": 2,
   "metadata": {},
   "outputs": [],
   "source": [
    "my_dir = \"./BooksDataset\""
   ]
  },
  {
   "cell_type": "code",
   "execution_count": 3,
   "metadata": {},
   "outputs": [
    {
     "data": {
      "text/html": [
       "\n",
       "        <div>\n",
       "            <p><b>SparkContext</b></p>\n",
       "\n",
       "            <p><a href=\"http://GiacomoPC:4040\">Spark UI</a></p>\n",
       "\n",
       "            <dl>\n",
       "              <dt>Version</dt>\n",
       "                <dd><code>v3.2.1</code></dd>\n",
       "              <dt>Master</dt>\n",
       "                <dd><code>local[*]</code></dd>\n",
       "              <dt>AppName</dt>\n",
       "                <dd><code>BigDataProject</code></dd>\n",
       "            </dl>\n",
       "        </div>\n",
       "        "
      ],
      "text/plain": [
       "<SparkContext master=local[*] appName=BigDataProject>"
      ]
     },
     "execution_count": 3,
     "metadata": {},
     "output_type": "execute_result"
    }
   ],
   "source": [
    "sc"
   ]
  },
  {
   "cell_type": "code",
   "execution_count": 37,
   "metadata": {},
   "outputs": [
    {
     "name": "stdout",
     "output_type": "stream",
     "text": [
      "['Arthur Conan Doyle', 'Arthur_Conan_Doyle', 'Charles Dickens', 'Charles_Dickens', 'Daniel Defoe', 'Daniel_Defoe', 'Edith Wharton', 'Edith_Wharton', 'Jane Austen', 'Jane_Austen', 'Joseph Conrad', 'Joseph_Conrad', 'Lewis Carroll', 'Lewis_Carroll', 'Louisa May Alcott', 'Louisa_May_Alcott', 'Voltaire', 'William Shakespeare', 'William_Shakespeare']\n"
     ]
    }
   ],
   "source": [
    "#Read Authors\n",
    "\n",
    "authors = []\n",
    "\n",
    "for file in os.listdir(my_dir):\n",
    "    d = os.path.join(my_dir, file)\n",
    "    if os.path.isdir(d):\n",
    "        res = file\n",
    "        authors.append(res)\n",
    "print(authors)"
   ]
  },
  {
   "cell_type": "code",
   "execution_count": 38,
   "metadata": {},
   "outputs": [
    {
     "name": "stdout",
     "output_type": "stream",
     "text": [
      "./BooksDataset/Arthur Conan Doyle\n",
      "./BooksDataset/Arthur_Conan_Doyle\n",
      "./BooksDataset/Charles Dickens\n",
      "./BooksDataset/Charles_Dickens\n",
      "./BooksDataset/Daniel Defoe\n",
      "./BooksDataset/Daniel_Defoe\n",
      "./BooksDataset/Edith Wharton\n",
      "./BooksDataset/Edith_Wharton\n",
      "./BooksDataset/Jane Austen\n",
      "./BooksDataset/Jane_Austen\n",
      "./BooksDataset/Joseph Conrad\n",
      "./BooksDataset/Joseph_Conrad\n",
      "./BooksDataset/Lewis Carroll\n",
      "./BooksDataset/Lewis_Carroll\n",
      "./BooksDataset/Louisa May Alcott\n",
      "./BooksDataset/Louisa_May_Alcott\n",
      "./BooksDataset/Voltaire\n",
      "./BooksDataset/William Shakespeare\n",
      "./BooksDataset/William_Shakespeare\n",
      "[['Arthur Conan Doyle_Beyond the City.txt', 'Arthur Conan Doyle_The Adventure of the Cardboard Box.txt', 'Arthur Conan Doyle_The Adventure of the Dying Detective.txt', 'Arthur Conan Doyle_The Adventure of the Red Circle.txt', 'Arthur Conan Doyle_The Adventures of Gerard.txt', 'Arthur Conan Doyle_The Adventures of Sherlock Holmes.txt', 'Arthur Conan Doyle_The British Campaign in France and Flanders 1914.txt', \"Arthur Conan Doyle_The Cabman's Story.txt\", 'Arthur Conan Doyle_The Captain of the Polestar, and Other Tales.txt', 'Arthur Conan Doyle_The case of Oscar Slater.txt'], [], ['Charles Dickens_A Christmas Carol.txt', 'Charles Dickens_American Notes for General Circulation.txt', 'Charles Dickens_Bardell v. Pickwick.txt', 'Charles Dickens_Bleak House.txt', \"Charles Dickens_Charles Dickens' Children Stories.txt\", 'Charles Dickens_David Copperfield.txt', 'Charles Dickens_Oliver Twist.txt', 'Charles Dickens_The Cricket on the Hearth.txt', 'Charles Dickens_The Life And Adventures Of Nicholas Nickleby.txt', 'Charles Dickens_The Mystery of Edwin Drood.txt'], [], ['Daniel Defoe_A Vindication of the Press.txt', 'Daniel Defoe_An American Robinson Crusoe.txt', 'Daniel Defoe_An Appeal to Honour and Justice, Though It Be of His Worst Enemies.txt', 'Daniel Defoe_And What if the Pretender should Come.txt', 'Daniel Defoe_Atalantis Major.txt', 'Daniel Defoe_Augusta Triumphans.txt', 'Daniel Defoe_History of the Plague in London.txt', 'Daniel Defoe_The Complete English Tradesman (1839 ed.).txt', 'Daniel Defoe_The Life and Adventures of Robinson Crusoe.txt', 'Daniel Defoe_The Storm. An Essay.txt'], [], ['Edith Wharton_Artemis to Actaeon, and Other Verses.txt', 'Edith Wharton_Bunner Sisters.txt', 'Edith Wharton_Coming Home.txt', 'Edith Wharton_Crucial Instances.txt', 'Edith Wharton_The Age of Innocence.txt', 'Edith Wharton_The Book of the Homeless.txt', 'Edith Wharton_The Choice.txt', 'Edith Wharton_The Custom of the Country.txt', 'Edith Wharton_The Decoration of Houses.txt', 'Edith Wharton_The Greater Inclination.txt'], [], ['Jane Austen_Emma.txt', 'Jane Austen_Lady Susan.txt', 'Jane Austen_Love and Freindship.txt', 'Jane Austen_Mansfield Park.txt', 'Jane Austen_Northanger Abbey.txt', 'Jane Austen_Persuasion.txt', 'Jane Austen_Pride and Prejudice.txt', 'Jane Austen_Sense and Sensibility.txt', 'Jane Austen_The Letters of Jane Austen.txt', 'Jane Austen_The Watsons.txt'], [], [\"Joseph Conrad_Almayer's Folly A Story of an Eastern River.txt\", 'Joseph Conrad_Amy Foster.txt', 'Joseph Conrad_Chance A Tale in Two Parts.txt', 'Joseph Conrad_End of the Tether.txt', 'Joseph Conrad_Falk.txt', 'Joseph Conrad_Gaspar Ruiz.txt', 'Joseph Conrad_Lord Jim.txt', 'Joseph Conrad_The Arrow of Gold.txt', 'Joseph Conrad_The Inheritors.txt', 'Joseph Conrad_The Mirror of the Sea.txt'], [], ['Lewis Carroll_A Tangled Tale.txt', \"Lewis Carroll_Alice's Adventures in Wonderland.txt\", 'Lewis Carroll_Eight or Nine Wise Words about Letter-Writing.txt', 'Lewis Carroll_Phantasmagoria.txt', 'Lewis Carroll_Rhyme and reason.txt', 'Lewis Carroll_Sylvie and Bruno.txt', 'Lewis Carroll_The Hunting of the Snark An Agony in Eight Fits.txt', 'Lewis Carroll_The Nursery Alice.txt', 'Lewis Carroll_Three Sunsets and Other Poems.txt', 'Lewis Carroll_Through the Looking-Glass.txt'], [], ['Louisa May Alcott_A Garland for Girls.txt', 'Louisa May Alcott_A Modern Cinderella; Or, The Little Old Shoe, and Other Stories.txt', 'Louisa May Alcott_Eight Cousins.txt', 'Louisa May Alcott_Flower Fables.txt', 'Louisa May Alcott_Hospital Sketches.txt', 'Louisa May Alcott_Jack and Jill.txt', \"Louisa May Alcott_Kitty's Class Day and Other Stories.txt\", 'Louisa May Alcott_Rose in Bloom.txt', 'Louisa May Alcott_The Candy Country.txt', 'Louisa May Alcott_Under the Lilacs.txt'], [], ['Voltaire_A Philosophical Dictionary, Volume 1 (of 10).txt', 'Voltaire_Candide.txt', 'Voltaire_International Short Stories, French.txt', 'Voltaire_Letters on England.txt', \"Voltaire_Library of the World's Best Mystery and Detective Stories.txt\", 'Voltaire_Micromegas.txt', 'Voltaire_Socrates.txt', \"Voltaire_The Fourth Book of Virgil's Aeneid and the Ninth Book of Voltaire's Henriad.txt\", 'Voltaire_The History of Peter the Great, Emperor of Russia.txt', 'Voltaire_Zadig; Or, The Book of Fate.txt'], ['William Shakespeare_All’s Well That Ends Well.txt', 'William Shakespeare_As You Like It.txt', 'William Shakespeare_Henry V.txt', 'William Shakespeare_Henry VIII.txt', 'William Shakespeare_The Comedie of Errors.txt', 'William Shakespeare_The Tragedie of Anthonie, and Cleopatra.txt', 'William Shakespeare_The Tragedie of Coriolanus.txt', 'William Shakespeare_The Tragedie of Cymbeline.txt', 'William Shakespeare_The Tragedie of Julius Caesar.txt', 'William Shakespeare_The Tragedy of Hamlet, Prince of Denmark.txt'], []]\n"
     ]
    }
   ],
   "source": [
    "#Read Books per Authors\n",
    "books = [[] for _ in range(len(authors))]\n",
    "\n",
    "\n",
    "for i in range(len(authors)):\n",
    "    mydiraut = my_dir+\"/\"+authors[i]\n",
    "    for file in os.listdir(mydiraut):\n",
    "        d = os.path.join(mydiraut, file)\n",
    "        books[i].append(file)\n",
    "\n",
    "print(books)\n",
    "    \n"
   ]
  },
  {
   "cell_type": "code",
   "execution_count": 10,
   "metadata": {},
   "outputs": [
    {
     "data": {
      "text/plain": [
       "[(1982, 'the'),\n",
       " (1506, ''),\n",
       " (1099, 'of'),\n",
       " (1051, 'and'),\n",
       " (1043, 'to'),\n",
       " (802, 'a'),\n",
       " (556, 'in'),\n",
       " (446, 'i'),\n",
       " (432, 'was'),\n",
       " (407, 'he'),\n",
       " (398, 'that'),\n",
       " (348, 'with'),\n",
       " (333, 'his'),\n",
       " (318, 'is'),\n",
       " (302, 'said'),\n",
       " (271, 'they'),\n",
       " (255, 'not'),\n",
       " (254, 'at'),\n",
       " (249, 'you'),\n",
       " (241, 'have'),\n",
       " (238, 'for'),\n",
       " (225, 'had'),\n",
       " (223, 'it'),\n",
       " (219, 'as'),\n",
       " (211, 'my'),\n",
       " (202, 'this'),\n",
       " (201, 'candide'),\n",
       " (189, 'all'),\n",
       " (182, 'be'),\n",
       " (178, 'who'),\n",
       " (159, 'by'),\n",
       " (156, 'but'),\n",
       " (155, 'which'),\n",
       " (146, 'on'),\n",
       " (144, 'were'),\n",
       " (142, 'him'),\n",
       " (139, 'are'),\n",
       " (137, 'their'),\n",
       " (131, 'one'),\n",
       " (120, 'candide,'),\n",
       " (118, 'two'),\n",
       " (118, 'me'),\n",
       " (113, 'what'),\n",
       " (106, 'an'),\n",
       " (105, 'from'),\n",
       " (103, 'we'),\n",
       " (100, 'very'),\n",
       " (96, 'been'),\n",
       " (94, 'them'),\n",
       " (91, 'old'),\n",
       " (90, '\"i'),\n",
       " (87, 'her'),\n",
       " (86, 'there'),\n",
       " (86, 'so'),\n",
       " (85, 'she'),\n",
       " (84, 'upon'),\n",
       " (82, 'will'),\n",
       " (81, 'more'),\n",
       " (77, 'than'),\n",
       " (74, 'would'),\n",
       " (73, 'no'),\n",
       " (71, 'your'),\n",
       " (69, 'when'),\n",
       " (69, 'has'),\n",
       " (68, 'great'),\n",
       " (67, 'how'),\n",
       " (66, 'or'),\n",
       " (65, 'am'),\n",
       " (64, 'made'),\n",
       " (62, 'us'),\n",
       " (58, 'good'),\n",
       " (58, 'man'),\n",
       " (56, 'if'),\n",
       " (56, 'some'),\n",
       " (56, 'our'),\n",
       " (55, 'only'),\n",
       " (55, 'could'),\n",
       " (54, 'after'),\n",
       " (51, 'out'),\n",
       " (51, 'do'),\n",
       " (49, 'into'),\n",
       " (49, 'cunegonde'),\n",
       " (49, 'most'),\n",
       " (48, 'those'),\n",
       " (48, 'see'),\n",
       " (47, 'should'),\n",
       " (46, 'answered'),\n",
       " (46, 'little'),\n",
       " (46, 'did'),\n",
       " (46, 'candide.'),\n",
       " (44, 'these'),\n",
       " (44, 'pangloss'),\n",
       " (43, 'never'),\n",
       " (43, 'where'),\n",
       " (43, 'shall'),\n",
       " (42, 'must'),\n",
       " (42, 'cacambo'),\n",
       " (42, 'thousand'),\n",
       " (42, 'woman'),\n",
       " (41, 'martin')]"
      ]
     },
     "execution_count": 10,
     "metadata": {},
     "output_type": "execute_result"
    }
   ],
   "source": [
    "#input_filename = my_dir+\"/Voltaire/Voltaire_Candide.txt\"\n",
    "\n",
    "\n",
    "def wordCount(file_path):\n",
    "    words = sc.textFile(file_path).filter(bool) \\\n",
    "                .flatMap(lambda line: line.split(\" \")) \\\n",
    "                .map(lambda w: w.lower()) \\\n",
    "                .map(lambda w: (w, 1)) \\\n",
    "                .reduceByKey(lambda v1, v2: v1 + v2) \\\n",
    "                .map(lambda x: (x[1], x[0])) \\\n",
    "                .sortByKey(False)\n",
    "    top100 = words.take(100)\n",
    "\n",
    "    return top100\n",
    "\n",
    "#wordCount(input_filename)\n"
   ]
  }
 ],
 "metadata": {
  "kernelspec": {
   "display_name": "BigData",
   "language": "python",
   "name": "python3"
  },
  "language_info": {
   "codemirror_mode": {
    "name": "ipython",
    "version": 3
   },
   "file_extension": ".py",
   "mimetype": "text/x-python",
   "name": "python",
   "nbconvert_exporter": "python",
   "pygments_lexer": "ipython3",
   "version": "3.10.10"
  },
  "orig_nbformat": 4
 },
 "nbformat": 4,
 "nbformat_minor": 2
}
