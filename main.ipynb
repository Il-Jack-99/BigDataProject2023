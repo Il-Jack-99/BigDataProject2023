{
 "cells": [
  {
   "cell_type": "code",
   "execution_count": 69,
   "metadata": {},
   "outputs": [],
   "source": [
    "import pyspark\n",
    "import os\n",
    "import pickle\n",
    "\n",
    "sc = pyspark.SparkContext(appName=\"BigDataProject\")"
   ]
  },
  {
   "cell_type": "code",
   "execution_count": 70,
   "metadata": {},
   "outputs": [],
   "source": [
    "my_dir = \"./BooksDataset\"\n",
    "readFromSavedFile = True"
   ]
  },
  {
   "cell_type": "code",
   "execution_count": 71,
   "metadata": {},
   "outputs": [
    {
     "data": {
      "text/html": [
       "\n",
       "        <div>\n",
       "            <p><b>SparkContext</b></p>\n",
       "\n",
       "            <p><a href=\"http://GiacomoPC:4040\">Spark UI</a></p>\n",
       "\n",
       "            <dl>\n",
       "              <dt>Version</dt>\n",
       "                <dd><code>v3.2.1</code></dd>\n",
       "              <dt>Master</dt>\n",
       "                <dd><code>local[*]</code></dd>\n",
       "              <dt>AppName</dt>\n",
       "                <dd><code>BigDataProject</code></dd>\n",
       "            </dl>\n",
       "        </div>\n",
       "        "
      ],
      "text/plain": [
       "<SparkContext master=local[*] appName=BigDataProject>"
      ]
     },
     "execution_count": 71,
     "metadata": {},
     "output_type": "execute_result"
    }
   ],
   "source": [
    "sc"
   ]
  },
  {
   "cell_type": "code",
   "execution_count": 72,
   "metadata": {},
   "outputs": [],
   "source": [
    "#Read Authors\n",
    "\n",
    "if not(readFromSavedFile):\n",
    "    authors = []\n",
    "\n",
    "    for file in os.listdir(my_dir):\n",
    "        d = os.path.join(my_dir, file)\n",
    "        if os.path.isdir(d):\n",
    "            res = file\n",
    "            authors.append(res)\n",
    "    print(authors)\n",
    "\n",
    "    sc.parallelize(authors).saveAsTextFile(\"./RDD/AuthorsName\")\n"
   ]
  },
  {
   "cell_type": "code",
   "execution_count": 73,
   "metadata": {},
   "outputs": [],
   "source": [
    "#Read Books per Authors\n",
    "if not(readFromSavedFile):\n",
    "    books = [[] for _ in range(len(authors))]\n",
    "\n",
    "\n",
    "    for i in range(len(authors)):\n",
    "        mydiraut = my_dir+\"/\"+authors[i]\n",
    "        for file in os.listdir(mydiraut):\n",
    "            d = os.path.join(mydiraut, file)\n",
    "            books[i].append(file)\n",
    "\n",
    "    print(books)\n",
    "\n",
    "    sc.parallelize(books).saveAsTextFile(\"./RDD/BooksName\")"
   ]
  },
  {
   "cell_type": "code",
   "execution_count": 74,
   "metadata": {},
   "outputs": [],
   "source": [
    "def wordCount(file_path):\n",
    "    words = sc.textFile(file_path).filter(bool) \\\n",
    "                .flatMap(lambda line: line.split(\" \")) \\\n",
    "                .map(lambda w: w.lower()) \\\n",
    "                .map(lambda w: (w, 1)) \\\n",
    "                .reduceByKey(lambda v1, v2: v1 + v2) \\\n",
    "                .map(lambda x: (x[1], x[0])) \\\n",
    "                .sortByKey(False)\n",
    "    result = words.collect()\n",
    "\n",
    "    return result\n",
    "\n",
    "\n",
    "if not(readFromSavedFile):\n",
    "    allWordsForAnAuthors = []\n",
    "\n",
    "    for i in range(2,len(authors)):\n",
    "        for j in range(len(books[i])):\n",
    "            input_filename = os.path.join(my_dir, authors[i])\n",
    "            input_filename = os.path.join(input_filename, books[i][j])\n",
    "            print(input_filename)\n",
    "            wordsOfABook= wordCount(input_filename)\n",
    "            \n",
    "            allWordsForAnAuthors.append(wordsOfABook)\n",
    "\n",
    "\n",
    "        allWordsForAnAuthors = sc.parallelize(allWordsForAnAuthors)\n",
    "        allWordsForAnAuthors.flatMap(lambda x : (x[0], x[1])).reduceByKey(lambda v1, v2: v1+v2).sortByKey(False)\n",
    "        allWordsForAnAuthors.saveAsTextFile('./RDD/'+authors[i])\n",
    "        \n",
    "        \n",
    "\n",
    "        print(f\"{authors[i]} {allWordsForAnAuthors.take(100)}\")\n",
    "        allWordsForAnAuthors = []\n",
    "\n"
   ]
  },
  {
   "cell_type": "code",
   "execution_count": 157,
   "metadata": {},
   "outputs": [
    {
     "name": "stdout",
     "output_type": "stream",
     "text": [
      "Arthur Conan Doyle\n",
      "Charles Dickens\n",
      "Daniel Defoe\n",
      "Edith Wharton\n",
      "Jane Austen\n",
      "Joseph Conrad\n",
      "Lewis Carroll\n",
      "Louisa May Alcott\n",
      "Voltaire\n",
      "William Shakespeare\n"
     ]
    }
   ],
   "source": [
    "#Leggo gli rdd\n",
    "listOfAuthors = sc.textFile(\"./RDD/AuthorsName/*\")\n",
    "listOfBooks = sc.textFile(\"./RDD/BooksName/*\")\n",
    "\n",
    "authors = listOfAuthors.collect()\n",
    "n_authors = len(authors)\n",
    "#wordsCountAuthors = [[] for _ in range(n_authors)]\n",
    "wordsCountAuthors = []\n",
    "\n",
    "for i in range(n_authors):\n",
    "    print(authors[i])\n",
    "    tmp = f\"./RDD/Books/{authors[i]}/*\"\n",
    "    wordsCountAuthors.append(sc.textFile(tmp))\n",
    "\n",
    "#wordsCountAuthors = sc.textFile(\"./RDD/Books/*/*\")"
   ]
  },
  {
   "cell_type": "code",
   "execution_count": 158,
   "metadata": {},
   "outputs": [
    {
     "name": "stdout",
     "output_type": "stream",
     "text": [
      "10\n"
     ]
    }
   ],
   "source": [
    "print(len(wordsCountAuthors))"
   ]
  },
  {
   "cell_type": "code",
   "execution_count": 160,
   "metadata": {},
   "outputs": [
    {
     "ename": "TypeError",
     "evalue": "'RDD' object is not subscriptable",
     "output_type": "error",
     "traceback": [
      "\u001b[1;31m---------------------------------------------------------------------------\u001b[0m",
      "\u001b[1;31mTypeError\u001b[0m                                 Traceback (most recent call last)",
      "\u001b[1;32mc:\\Users\\giaco\\Desktop\\BigDataProject2023\\main.ipynb Cell 9\u001b[0m line \u001b[0;36m5\n\u001b[0;32m      <a href='vscode-notebook-cell:/c%3A/Users/giaco/Desktop/BigDataProject2023/main.ipynb#X21sZmlsZQ%3D%3D?line=0'>1</a>\u001b[0m \u001b[39m#prova = sc.parallelize(wordsCountAuthors[0])\u001b[39;00m\n\u001b[0;32m      <a href='vscode-notebook-cell:/c%3A/Users/giaco/Desktop/BigDataProject2023/main.ipynb#X21sZmlsZQ%3D%3D?line=1'>2</a>\u001b[0m \n\u001b[0;32m      <a href='vscode-notebook-cell:/c%3A/Users/giaco/Desktop/BigDataProject2023/main.ipynb#X21sZmlsZQ%3D%3D?line=2'>3</a>\u001b[0m \u001b[39m#print(type(prova))\u001b[39;00m\n\u001b[1;32m----> <a href='vscode-notebook-cell:/c%3A/Users/giaco/Desktop/BigDataProject2023/main.ipynb#X21sZmlsZQ%3D%3D?line=4'>5</a>\u001b[0m \u001b[39mprint\u001b[39m(wordsCountAuthors[\u001b[39m0\u001b[39;49m][\u001b[39m0\u001b[39;49m]\u001b[39m.\u001b[39mtake(\u001b[39m10\u001b[39m))\n",
      "\u001b[1;31mTypeError\u001b[0m: 'RDD' object is not subscriptable"
     ]
    }
   ],
   "source": [
    "#prova = sc.parallelize(wordsCountAuthors[0])\n",
    "\n",
    "#print(type(prova))\n",
    "\n",
    "print(wordsCountAuthors[0].take(10))"
   ]
  },
  {
   "cell_type": "code",
   "execution_count": null,
   "metadata": {},
   "outputs": [],
   "source": [
    "#sc.stop()"
   ]
  },
  {
   "cell_type": "code",
   "execution_count": 156,
   "metadata": {},
   "outputs": [
    {
     "data": {
      "text/plain": [
       "10"
      ]
     },
     "execution_count": 156,
     "metadata": {},
     "output_type": "execute_result"
    }
   ],
   "source": [
    "#Possibile soluzione ?\n",
    "prova = [[] for i in range(11)]\n",
    "\n",
    "lista = list(range(10, -1,-1))\n",
    "\n",
    "rddlist = sc.parallelize(lista)\n",
    "\n",
    "for i in range(len(lista)):\n",
    "\n",
    "    prova[i].append(rddlist.collect())\n",
    "\n",
    "\n",
    "prova[0]\n",
    "sc.parallelize(prova)\n",
    "\n",
    "prova[0][0][0]\n",
    "\n",
    "#print(type(rddlist.collect()))"
   ]
  }
 ],
 "metadata": {
  "kernelspec": {
   "display_name": "BigData",
   "language": "python",
   "name": "python3"
  },
  "language_info": {
   "codemirror_mode": {
    "name": "ipython",
    "version": 3
   },
   "file_extension": ".py",
   "mimetype": "text/x-python",
   "name": "python",
   "nbconvert_exporter": "python",
   "pygments_lexer": "ipython3",
   "version": "3.10.10"
  },
  "orig_nbformat": 4
 },
 "nbformat": 4,
 "nbformat_minor": 2
}
