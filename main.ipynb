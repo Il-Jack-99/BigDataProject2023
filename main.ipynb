{
 "cells": [
  {
   "cell_type": "code",
   "execution_count": 5,
   "metadata": {
    "ExecuteTime": {
     "end_time": "2023-10-20T14:22:39.946713800Z",
     "start_time": "2023-10-20T14:21:53.531793300Z"
    }
   },
   "outputs": [
    {
     "data": {
      "text/html": [
       "\n",
       "        <div>\n",
       "            <p><b>SparkContext</b></p>\n",
       "\n",
       "            <p><a href=\"http://GiacomoPC:4040\">Spark UI</a></p>\n",
       "\n",
       "            <dl>\n",
       "              <dt>Version</dt>\n",
       "                <dd><code>v3.2.1</code></dd>\n",
       "              <dt>Master</dt>\n",
       "                <dd><code>local[*]</code></dd>\n",
       "              <dt>AppName</dt>\n",
       "                <dd><code>BigDataProject</code></dd>\n",
       "            </dl>\n",
       "        </div>\n",
       "        "
      ],
      "text/plain": [
       "<SparkContext master=local[*] appName=BigDataProject>"
      ]
     },
     "execution_count": 5,
     "metadata": {},
     "output_type": "execute_result"
    }
   ],
   "source": [
    "import pyspark\n",
    "import os\n",
    "import numpy as np\n",
    "from sklearn.metrics.pairwise import cosine_similarity\n",
    "from sklearn.metrics import jaccard_score\n",
    "\n",
    "sc = pyspark.SparkContext(appName=\"BigDataProject\")\n",
    "\n",
    "sc"
   ]
  },
  {
   "cell_type": "code",
   "execution_count": 2,
   "metadata": {
    "ExecuteTime": {
     "end_time": "2023-10-17T15:41:51.253523700Z",
     "start_time": "2023-10-17T15:41:48.569779800Z"
    },
    "collapsed": false
   },
   "outputs": [],
   "source": [
    "#sc.stop()"
   ]
  },
  {
   "cell_type": "code",
   "execution_count": 8,
   "metadata": {
    "ExecuteTime": {
     "start_time": "2023-10-20T15:02:59.905642200Z"
    },
    "collapsed": false
   },
   "outputs": [],
   "source": [
    "import variables\n",
    "#List of english function words\n",
    "function_words = variables.function_words\n",
    "\n",
    "#List of punctuations char\n",
    "punctuations_char = variables.punctuations_char\n",
    "\n",
    "#Dataset path\n",
    "my_dir = \"./BooksDataset\"\n",
    "\n",
    "# False if you don't have the rdd saved, True otherwise\n",
    "readFromSavedFile = False\n",
    "\n",
    "#List of Authors\n",
    "authors = variables.authors\n",
    "\n",
    "#Number of Authors\n",
    "n_authors = len(authors)"
   ]
  },
  {
   "cell_type": "code",
   "execution_count": 9,
   "metadata": {
    "ExecuteTime": {
     "end_time": "2023-10-20T15:03:40.212258100Z",
     "start_time": "2023-10-20T15:03:05.992998500Z"
    }
   },
   "outputs": [
    {
     "name": "stdout",
     "output_type": "stream",
     "text": [
      "Getting books' name for author: Bret Harte\n",
      "Start - Saving RDD of all books' name of author: Bret Harte\n",
      "End - Saving RDD of all books' name of author: Bret Harte\n",
      "\n",
      "Getting books' name for author: Charles Dickens\n",
      "Start - Saving RDD of all books' name of author: Charles Dickens\n",
      "End - Saving RDD of all books' name of author: Charles Dickens\n",
      "\n",
      "Getting books' name for author: Daniel Defoe\n",
      "Start - Saving RDD of all books' name of author: Daniel Defoe\n",
      "End - Saving RDD of all books' name of author: Daniel Defoe\n",
      "\n",
      "Getting books' name for author: Edith Wharton\n",
      "Start - Saving RDD of all books' name of author: Edith Wharton\n",
      "End - Saving RDD of all books' name of author: Edith Wharton\n",
      "\n",
      "Getting books' name for author: Jane Austen\n",
      "Start - Saving RDD of all books' name of author: Jane Austen\n",
      "End - Saving RDD of all books' name of author: Jane Austen\n",
      "\n",
      "Getting books' name for author: Joseph Conrad\n",
      "Start - Saving RDD of all books' name of author: Joseph Conrad\n",
      "End - Saving RDD of all books' name of author: Joseph Conrad\n",
      "\n",
      "Getting books' name for author: Lewis Carroll\n",
      "Start - Saving RDD of all books' name of author: Lewis Carroll\n",
      "End - Saving RDD of all books' name of author: Lewis Carroll\n",
      "\n",
      "Getting books' name for author: Louisa May Alcott\n",
      "Start - Saving RDD of all books' name of author: Louisa May Alcott\n",
      "End - Saving RDD of all books' name of author: Louisa May Alcott\n",
      "\n",
      "Getting books' name for author: Voltaire\n",
      "Start - Saving RDD of all books' name of author: Voltaire\n",
      "End - Saving RDD of all books' name of author: Voltaire\n",
      "\n",
      "Getting books' name for author: William Shakespeare\n",
      "Start - Saving RDD of all books' name of author: William Shakespeare\n",
      "End - Saving RDD of all books' name of author: William Shakespeare\n",
      "\n",
      " Start - Reading all books' name from saved RDD of author: Bret Harte\n",
      " End - Reading all books' name from saved RDD of author: Bret Harte\n",
      " Start - Reading all books' name from saved RDD of author: Charles Dickens\n",
      " End - Reading all books' name from saved RDD of author: Charles Dickens\n",
      " Start - Reading all books' name from saved RDD of author: Daniel Defoe\n",
      " End - Reading all books' name from saved RDD of author: Daniel Defoe\n",
      " Start - Reading all books' name from saved RDD of author: Edith Wharton\n",
      " End - Reading all books' name from saved RDD of author: Edith Wharton\n",
      " Start - Reading all books' name from saved RDD of author: Jane Austen\n",
      " End - Reading all books' name from saved RDD of author: Jane Austen\n",
      " Start - Reading all books' name from saved RDD of author: Joseph Conrad\n",
      " End - Reading all books' name from saved RDD of author: Joseph Conrad\n",
      " Start - Reading all books' name from saved RDD of author: Lewis Carroll\n",
      " End - Reading all books' name from saved RDD of author: Lewis Carroll\n",
      " Start - Reading all books' name from saved RDD of author: Louisa May Alcott\n",
      " End - Reading all books' name from saved RDD of author: Louisa May Alcott\n",
      " Start - Reading all books' name from saved RDD of author: Voltaire\n",
      " End - Reading all books' name from saved RDD of author: Voltaire\n",
      " Start - Reading all books' name from saved RDD of author: William Shakespeare\n",
      " End - Reading all books' name from saved RDD of author: William Shakespeare\n"
     ]
    }
   ],
   "source": [
    "#Save/read all books' name of every author\n",
    "\n",
    "if not readFromSavedFile:\n",
    "    for i in range(n_authors):\n",
    "        book = []\n",
    "        mydiraut = my_dir+\"/\"+authors[i]\n",
    "        print(f\"Getting books' name for author: {authors[i]}\")\n",
    "        \n",
    "        for file in os.listdir(mydiraut):\n",
    "            d = os.path.join(mydiraut, file)\n",
    "            book.append(file)\n",
    "            \n",
    "        print(f\"Start - Saving RDD of all books' name of author: {authors[i]}\")\n",
    "        sc.parallelize(book).saveAsTextFile(\"./RDD/BooksName/\"+authors[i])\n",
    "        print(f\"End - Saving RDD of all books' name of author: {authors[i]}\\n\")\n",
    "    \n",
    "\n",
    "booksName = []\n",
    "\n",
    "for i in range(n_authors):\n",
    "    print(f\" Start - Reading all books' name from saved RDD of author: {authors[i]}\")\n",
    "    booksName.append(sc.textFile(\"./RDD/BooksName/\" + authors[i] + \"/*\").collect()) \n",
    "    print(f\" End - Reading all books' name from saved RDD of author: {authors[i]}\")\n",
    "    \n"
   ]
  },
  {
   "cell_type": "code",
   "execution_count": 11,
   "metadata": {
    "ExecuteTime": {
     "end_time": "2023-10-20T15:03:59.767323800Z",
     "start_time": "2023-10-20T15:03:59.479330600Z"
    }
   },
   "outputs": [],
   "source": [
    "#Function to clear the text given in input\n",
    "\n",
    "def clearText(file_path):\n",
    "    return sc.textFile(file_path).filter(bool)  \\\n",
    "                .map(lambda w: w.replace(\".\",\" . \")) \\\n",
    "                .map(lambda w: w.replace(\",\",\" , \")) \\\n",
    "                .map(lambda w: w.replace(\";\",\" ; \")) \\\n",
    "                .map(lambda w: w.replace(\":\",\" : \")) \\\n",
    "                .map(lambda w: w.replace(\"!\",\" ! \")) \\\n",
    "                .map(lambda w: w.replace(\"?\",\" ? \")) \\\n",
    "                .map(lambda w: w.replace('\"',' \" ')) \\\n",
    "                .map(lambda w: w.replace(\"”\",\" ” \")) \\\n",
    "                .map(lambda w: w.replace(\"“\",\" “ \")) \\\n",
    "                .map(lambda w: w.replace(\"’\",\" ’ \")) \\\n",
    "                .map(lambda w: w.replace(\"‘\",\" ‘ \")) \\\n",
    "                .map(lambda w: w.replace(\"-\",\" - \")) \\\n",
    "                .map(lambda w: w.replace(\"_\",\" _ \")) \\\n",
    "                .map(lambda w: w.replace(\"{\",\" { \")) \\\n",
    "                .map(lambda w: w.replace(\"}\",\" } \")) \\\n",
    "                .map(lambda w: w.replace(\"[\",\" [ \")) \\\n",
    "                .map(lambda w: w.replace(\"]\",\" ] \")) \\\n",
    "                .map(lambda w: w.replace(\"(\",\" ( \")) \\\n",
    "                .map(lambda w: w.replace(\")\",\" ) \")) \\\n",
    "                .map(lambda w: w.replace(\"*\",\" * \"))\n"
   ]
  },
  {
   "cell_type": "code",
   "execution_count": 6,
   "metadata": {
    "ExecuteTime": {
     "end_time": "2023-10-20T15:04:01.798305400Z",
     "start_time": "2023-10-20T15:04:01.331765500Z"
    },
    "collapsed": false
   },
   "outputs": [],
   "source": [
    "#WordCount returning a list of words\n",
    "#.map(lambda w: (w[0][1:len(w[0])], w[1]) if (w[0][0] == \"'\") else w) \\ dopo reduceByKey\n",
    "\n",
    "def wordCount(file_path):\n",
    "    words = clearText(file_path) \\\n",
    "                .flatMap(lambda line: line.split(\" \")) \\\n",
    "                .map(lambda w: w.lower()) \\\n",
    "                .map(lambda w: (w, 1)) \\\n",
    "                .reduceByKey(lambda v1, v2: v1 + v2) \\\n",
    "                .filter(lambda w: w[0] != \"\") \\\n",
    "                .sortBy(lambda w: -w[1])\n",
    "    \n",
    "    result = words.collect()\n",
    "\n",
    "    # Calculate total words of the book given in input\n",
    "    total_words = 0\n",
    "    for t in result:\n",
    "        if t[0] not in punctuations_char:\n",
    "            total_words += t[1]\n",
    "            \n",
    "    # Add the total word to the list of words\n",
    "    result.append(('total_words', total_words))  \n",
    "    \n",
    "    return sc.parallelize(result)"
   ]
  },
  {
   "cell_type": "code",
   "execution_count": 7,
   "metadata": {
    "ExecuteTime": {
     "end_time": "2023-10-20T15:04:04.495768100Z",
     "start_time": "2023-10-20T15:04:04.267758500Z"
    }
   },
   "outputs": [],
   "source": [
    "#Saving word count RDD for every book for all authors\n",
    "\n",
    "if not readFromSavedFile:\n",
    "\n",
    "    for i in range(n_authors): #n_authors\n",
    "        # Obtain the path of author directory\n",
    "        tmp_filename = os.path.join(my_dir, authors[i])\n",
    "        print(f\"Word count of {authors[i]}'s books.\")\n",
    "        \n",
    "        for j in range(len(booksName[i])): #len(booksName[i])\n",
    "            # Obtain the path of books given the path of an author\n",
    "            input_filename = os.path.join(tmp_filename, booksName[i][j])\n",
    "            \n",
    "            print(f\"Start - Word count of book: {booksName[i][j]}\")\n",
    "            wordsOfABook = wordCount(input_filename)\n",
    "            print(f\"End - Word count of book: {booksName[i][j]}\\n\")\n",
    "            \n",
    "            print(f\"Start - Saving word count of book: {booksName[i][j]}\")\n",
    "            wordsOfABook.saveAsTextFile(\"./RDD/Books/SingleBooks/\"+ authors[i] + \"/\" + booksName[i][j])\n",
    "            print(f\"End - Saving word count of book: {booksName[i][j]}\\n\")\n",
    "            \n",
    "        "
   ]
  },
  {
   "cell_type": "code",
   "execution_count": 8,
   "metadata": {
    "ExecuteTime": {
     "start_time": "2023-10-20T15:04:05.798851100Z"
    },
    "collapsed": false
   },
   "outputs": [],
   "source": [
    "#Given a list of string convert it to a list of tuple\n",
    "def stringToTuple(wordCount):\n",
    "\n",
    "    result = []\n",
    "    for s in wordCount:\n",
    "        #Remove useless characters in the string\n",
    "        res = s.strip(\"(\").strip(\")\").split(\", \")   \n",
    "        tmp = len(res[0])\n",
    "        #Take only the string inside the ''\n",
    "        result.append((str(res[0][1:tmp-1]), float(res[1])))\n",
    "        \n",
    "    return result"
   ]
  },
  {
   "cell_type": "code",
   "execution_count": 9,
   "metadata": {
    "ExecuteTime": {
     "start_time": "2023-10-20T15:04:07.240182200Z"
    },
    "collapsed": false
   },
   "outputs": [
    {
     "name": "stdout",
     "output_type": "stream",
     "text": [
      "Reading books for: Arthur Conan Doyle\n",
      "Start - Reading words count of book: Arthur Conan Doyle_Beyond the City.txt\n"
     ]
    },
    {
     "name": "stdout",
     "output_type": "stream",
     "text": [
      "End - Reading words count of book: Arthur Conan Doyle_Beyond the City.txt\n",
      "\n",
      "Start - Reading words count of book: Arthur Conan Doyle_The Adventure of the Cardboard Box.txt\n",
      "End - Reading words count of book: Arthur Conan Doyle_The Adventure of the Cardboard Box.txt\n",
      "\n",
      "Start - Reading words count of book: Arthur Conan Doyle_The Adventure of the Dying Detective.txt\n",
      "End - Reading words count of book: Arthur Conan Doyle_The Adventure of the Dying Detective.txt\n",
      "\n",
      "Start - Reading words count of book: Arthur Conan Doyle_The Adventure of the Red Circle.txt\n",
      "End - Reading words count of book: Arthur Conan Doyle_The Adventure of the Red Circle.txt\n",
      "\n",
      "Start - Reading words count of book: Arthur Conan Doyle_The Adventures of Gerard.txt\n",
      "End - Reading words count of book: Arthur Conan Doyle_The Adventures of Gerard.txt\n",
      "\n",
      "Start - Reading words count of book: Arthur Conan Doyle_The Adventures of Sherlock Holmes.txt\n",
      "End - Reading words count of book: Arthur Conan Doyle_The Adventures of Sherlock Holmes.txt\n",
      "\n",
      "Start - Reading words count of book: Arthur Conan Doyle_The British Campaign in France and Flanders 1914.txt\n",
      "End - Reading words count of book: Arthur Conan Doyle_The British Campaign in France and Flanders 1914.txt\n",
      "\n",
      "Start - Reading words count of book: Arthur Conan Doyle_The Cabman's Story.txt\n",
      "End - Reading words count of book: Arthur Conan Doyle_The Cabman's Story.txt\n",
      "\n",
      "Start - Reading words count of book: Arthur Conan Doyle_The Captain of the Polestar and Other Tales.txt\n",
      "End - Reading words count of book: Arthur Conan Doyle_The Captain of the Polestar and Other Tales.txt\n",
      "\n",
      "Start - Reading words count of book: Arthur Conan Doyle_The case of Oscar Slater.txt\n",
      "End - Reading words count of book: Arthur Conan Doyle_The case of Oscar Slater.txt\n",
      "\n",
      "Reading books for: Charles Dickens\n",
      "Start - Reading words count of book: Charles Dickens_A Christmas Carol.txt\n",
      "End - Reading words count of book: Charles Dickens_A Christmas Carol.txt\n",
      "\n",
      "Start - Reading words count of book: Charles Dickens_American Notes for General Circulation.txt\n",
      "End - Reading words count of book: Charles Dickens_American Notes for General Circulation.txt\n",
      "\n",
      "Start - Reading words count of book: Charles Dickens_Bardell v Pickwick.txt\n",
      "End - Reading words count of book: Charles Dickens_Bardell v Pickwick.txt\n",
      "\n",
      "Start - Reading words count of book: Charles Dickens_Bleak House.txt\n",
      "End - Reading words count of book: Charles Dickens_Bleak House.txt\n",
      "\n",
      "Start - Reading words count of book: Charles Dickens_Charles Dickens' Children Stories.txt\n",
      "End - Reading words count of book: Charles Dickens_Charles Dickens' Children Stories.txt\n",
      "\n",
      "Start - Reading words count of book: Charles Dickens_David Copperfield.txt\n",
      "End - Reading words count of book: Charles Dickens_David Copperfield.txt\n",
      "\n",
      "Start - Reading words count of book: Charles Dickens_Oliver Twist.txt\n",
      "End - Reading words count of book: Charles Dickens_Oliver Twist.txt\n",
      "\n",
      "Start - Reading words count of book: Charles Dickens_The Cricket on the Hearth.txt\n",
      "End - Reading words count of book: Charles Dickens_The Cricket on the Hearth.txt\n",
      "\n",
      "Start - Reading words count of book: Charles Dickens_The Life And Adventures Of Nicholas Nickleby.txt\n",
      "End - Reading words count of book: Charles Dickens_The Life And Adventures Of Nicholas Nickleby.txt\n",
      "\n",
      "Start - Reading words count of book: Charles Dickens_The Mystery of Edwin Drood.txt\n",
      "End - Reading words count of book: Charles Dickens_The Mystery of Edwin Drood.txt\n",
      "\n",
      "Reading books for: Daniel Defoe\n",
      "Start - Reading words count of book: Daniel Defoe_A Vindication of the Press.txt\n",
      "End - Reading words count of book: Daniel Defoe_A Vindication of the Press.txt\n",
      "\n",
      "Start - Reading words count of book: Daniel Defoe_An American Robinson Crusoe.txt\n",
      "End - Reading words count of book: Daniel Defoe_An American Robinson Crusoe.txt\n",
      "\n",
      "Start - Reading words count of book: Daniel Defoe_An Appeal to Honour and Justice Though It Be of His Worst Enemies.txt\n",
      "End - Reading words count of book: Daniel Defoe_An Appeal to Honour and Justice Though It Be of His Worst Enemies.txt\n",
      "\n",
      "Start - Reading words count of book: Daniel Defoe_And What if the Pretender should Come.txt\n",
      "End - Reading words count of book: Daniel Defoe_And What if the Pretender should Come.txt\n",
      "\n",
      "Start - Reading words count of book: Daniel Defoe_Atalantis Major.txt\n",
      "End - Reading words count of book: Daniel Defoe_Atalantis Major.txt\n",
      "\n",
      "Start - Reading words count of book: Daniel Defoe_Augusta Triumphans.txt\n",
      "End - Reading words count of book: Daniel Defoe_Augusta Triumphans.txt\n",
      "\n",
      "Start - Reading words count of book: Daniel Defoe_History of the Plague in London.txt\n",
      "End - Reading words count of book: Daniel Defoe_History of the Plague in London.txt\n",
      "\n",
      "Start - Reading words count of book: Daniel Defoe_The Complete English Tradesman (1839 ed.).txt\n",
      "End - Reading words count of book: Daniel Defoe_The Complete English Tradesman (1839 ed.).txt\n",
      "\n",
      "Start - Reading words count of book: Daniel Defoe_The Life and Adventures of Robinson Crusoe.txt\n",
      "End - Reading words count of book: Daniel Defoe_The Life and Adventures of Robinson Crusoe.txt\n",
      "\n",
      "Start - Reading words count of book: Daniel Defoe_The Storm An Essay.txt\n",
      "End - Reading words count of book: Daniel Defoe_The Storm An Essay.txt\n",
      "\n",
      "Reading books for: Edith Wharton\n",
      "Start - Reading words count of book: Edith Wharton_Artemis to Actaeon and Other Verses.txt\n",
      "End - Reading words count of book: Edith Wharton_Artemis to Actaeon and Other Verses.txt\n",
      "\n",
      "Start - Reading words count of book: Edith Wharton_Bunner Sisters.txt\n",
      "End - Reading words count of book: Edith Wharton_Bunner Sisters.txt\n",
      "\n",
      "Start - Reading words count of book: Edith Wharton_Coming Home.txt\n",
      "End - Reading words count of book: Edith Wharton_Coming Home.txt\n",
      "\n",
      "Start - Reading words count of book: Edith Wharton_Crucial Instances.txt\n",
      "End - Reading words count of book: Edith Wharton_Crucial Instances.txt\n",
      "\n",
      "Start - Reading words count of book: Edith Wharton_The Age of Innocence.txt\n",
      "End - Reading words count of book: Edith Wharton_The Age of Innocence.txt\n",
      "\n",
      "Start - Reading words count of book: Edith Wharton_The Book of the Homeless.txt\n",
      "End - Reading words count of book: Edith Wharton_The Book of the Homeless.txt\n",
      "\n",
      "Start - Reading words count of book: Edith Wharton_The Choice.txt\n",
      "End - Reading words count of book: Edith Wharton_The Choice.txt\n",
      "\n",
      "Start - Reading words count of book: Edith Wharton_The Custom of the Country.txt\n",
      "End - Reading words count of book: Edith Wharton_The Custom of the Country.txt\n",
      "\n",
      "Start - Reading words count of book: Edith Wharton_The Decoration of Houses.txt\n",
      "End - Reading words count of book: Edith Wharton_The Decoration of Houses.txt\n",
      "\n",
      "Start - Reading words count of book: Edith Wharton_The Greater Inclination.txt\n",
      "End - Reading words count of book: Edith Wharton_The Greater Inclination.txt\n",
      "\n",
      "Reading books for: Jane Austen\n",
      "Start - Reading words count of book: Jane Austen_Emma.txt\n",
      "End - Reading words count of book: Jane Austen_Emma.txt\n",
      "\n",
      "Start - Reading words count of book: Jane Austen_Lady Susan.txt\n",
      "End - Reading words count of book: Jane Austen_Lady Susan.txt\n",
      "\n",
      "Start - Reading words count of book: Jane Austen_Love and Freindship.txt\n",
      "End - Reading words count of book: Jane Austen_Love and Freindship.txt\n",
      "\n",
      "Start - Reading words count of book: Jane Austen_Mansfield Park.txt\n",
      "End - Reading words count of book: Jane Austen_Mansfield Park.txt\n",
      "\n",
      "Start - Reading words count of book: Jane Austen_Northanger Abbey.txt\n",
      "End - Reading words count of book: Jane Austen_Northanger Abbey.txt\n",
      "\n",
      "Start - Reading words count of book: Jane Austen_Persuasion.txt\n",
      "End - Reading words count of book: Jane Austen_Persuasion.txt\n",
      "\n",
      "Start - Reading words count of book: Jane Austen_Pride and Prejudice.txt\n",
      "End - Reading words count of book: Jane Austen_Pride and Prejudice.txt\n",
      "\n",
      "Start - Reading words count of book: Jane Austen_Sense and Sensibility.txt\n",
      "End - Reading words count of book: Jane Austen_Sense and Sensibility.txt\n",
      "\n",
      "Start - Reading words count of book: Jane Austen_The Letters of Jane Austen.txt\n",
      "End - Reading words count of book: Jane Austen_The Letters of Jane Austen.txt\n",
      "\n",
      "Start - Reading words count of book: Jane Austen_The Watsons.txt\n",
      "End - Reading words count of book: Jane Austen_The Watsons.txt\n",
      "\n",
      "Reading books for: Joseph Conrad\n",
      "Start - Reading words count of book: Joseph Conrad_Almayers Folly A Story of an Eastern River.txt\n",
      "End - Reading words count of book: Joseph Conrad_Almayers Folly A Story of an Eastern River.txt\n",
      "\n",
      "Start - Reading words count of book: Joseph Conrad_Amy Foster.txt\n",
      "End - Reading words count of book: Joseph Conrad_Amy Foster.txt\n",
      "\n",
      "Start - Reading words count of book: Joseph Conrad_Chance A Tale in Two Parts.txt\n",
      "End - Reading words count of book: Joseph Conrad_Chance A Tale in Two Parts.txt\n",
      "\n",
      "Start - Reading words count of book: Joseph Conrad_End of the Tether.txt\n",
      "End - Reading words count of book: Joseph Conrad_End of the Tether.txt\n",
      "\n",
      "Start - Reading words count of book: Joseph Conrad_Falk.txt\n",
      "End - Reading words count of book: Joseph Conrad_Falk.txt\n",
      "\n",
      "Start - Reading words count of book: Joseph Conrad_Gaspar Ruiz.txt\n",
      "End - Reading words count of book: Joseph Conrad_Gaspar Ruiz.txt\n",
      "\n",
      "Start - Reading words count of book: Joseph Conrad_Lord Jim.txt\n",
      "End - Reading words count of book: Joseph Conrad_Lord Jim.txt\n",
      "\n",
      "Start - Reading words count of book: Joseph Conrad_The Arrow of Gold.txt\n",
      "End - Reading words count of book: Joseph Conrad_The Arrow of Gold.txt\n",
      "\n",
      "Start - Reading words count of book: Joseph Conrad_The Inheritors.txt\n",
      "End - Reading words count of book: Joseph Conrad_The Inheritors.txt\n",
      "\n",
      "Start - Reading words count of book: Joseph Conrad_The Mirror of the Sea.txt\n",
      "End - Reading words count of book: Joseph Conrad_The Mirror of the Sea.txt\n",
      "\n",
      "Reading books for: Lewis Carroll\n",
      "Start - Reading words count of book: Lewis Carroll_A Tangled Tale.txt\n",
      "End - Reading words count of book: Lewis Carroll_A Tangled Tale.txt\n",
      "\n",
      "Start - Reading words count of book: Lewis Carroll_Alices Adventures in Wonderland.txt\n",
      "End - Reading words count of book: Lewis Carroll_Alices Adventures in Wonderland.txt\n",
      "\n",
      "Start - Reading words count of book: Lewis Carroll_Eight or Nine Wise Words about Letter-Writing.txt\n",
      "End - Reading words count of book: Lewis Carroll_Eight or Nine Wise Words about Letter-Writing.txt\n",
      "\n",
      "Start - Reading words count of book: Lewis Carroll_Phantasmagoria.txt\n",
      "End - Reading words count of book: Lewis Carroll_Phantasmagoria.txt\n",
      "\n",
      "Start - Reading words count of book: Lewis Carroll_Rhyme and reason.txt\n",
      "End - Reading words count of book: Lewis Carroll_Rhyme and reason.txt\n",
      "\n",
      "Start - Reading words count of book: Lewis Carroll_Sylvie and Bruno.txt\n",
      "End - Reading words count of book: Lewis Carroll_Sylvie and Bruno.txt\n",
      "\n",
      "Start - Reading words count of book: Lewis Carroll_The Hunting of the Snark An Agony in Eight Fits.txt\n",
      "End - Reading words count of book: Lewis Carroll_The Hunting of the Snark An Agony in Eight Fits.txt\n",
      "\n",
      "Start - Reading words count of book: Lewis Carroll_The Nursery Alice.txt\n",
      "End - Reading words count of book: Lewis Carroll_The Nursery Alice.txt\n",
      "\n",
      "Start - Reading words count of book: Lewis Carroll_Three Sunsets and Other Poems.txt\n",
      "End - Reading words count of book: Lewis Carroll_Three Sunsets and Other Poems.txt\n",
      "\n",
      "Start - Reading words count of book: Lewis Carroll_Through the Looking-Glass.txt\n",
      "End - Reading words count of book: Lewis Carroll_Through the Looking-Glass.txt\n",
      "\n",
      "Reading books for: Louisa May Alcott\n",
      "Start - Reading words count of book: Louisa May Alcott_A Garland for Girls.txt\n",
      "End - Reading words count of book: Louisa May Alcott_A Garland for Girls.txt\n",
      "\n",
      "Start - Reading words count of book: Louisa May Alcott_A Modern Cinderella Or The Little Old Shoe and Other Stories.txt\n",
      "End - Reading words count of book: Louisa May Alcott_A Modern Cinderella Or The Little Old Shoe and Other Stories.txt\n",
      "\n",
      "Start - Reading words count of book: Louisa May Alcott_Eight Cousins.txt\n",
      "End - Reading words count of book: Louisa May Alcott_Eight Cousins.txt\n",
      "\n",
      "Start - Reading words count of book: Louisa May Alcott_Flower Fables.txt\n",
      "End - Reading words count of book: Louisa May Alcott_Flower Fables.txt\n",
      "\n",
      "Start - Reading words count of book: Louisa May Alcott_Hospital Sketches.txt\n",
      "End - Reading words count of book: Louisa May Alcott_Hospital Sketches.txt\n",
      "\n",
      "Start - Reading words count of book: Louisa May Alcott_Jack and Jill.txt\n",
      "End - Reading words count of book: Louisa May Alcott_Jack and Jill.txt\n",
      "\n",
      "Start - Reading words count of book: Louisa May Alcott_Kittys Class Day and Other Stories.txt\n",
      "End - Reading words count of book: Louisa May Alcott_Kittys Class Day and Other Stories.txt\n",
      "\n",
      "Start - Reading words count of book: Louisa May Alcott_Rose in Bloom.txt\n",
      "End - Reading words count of book: Louisa May Alcott_Rose in Bloom.txt\n",
      "\n",
      "Start - Reading words count of book: Louisa May Alcott_The Candy Country.txt\n",
      "End - Reading words count of book: Louisa May Alcott_The Candy Country.txt\n",
      "\n",
      "Start - Reading words count of book: Louisa May Alcott_Under the Lilacs.txt\n",
      "End - Reading words count of book: Louisa May Alcott_Under the Lilacs.txt\n",
      "\n",
      "Reading books for: Voltaire\n",
      "Start - Reading words count of book: Voltaire_A Philosophical Dictionary Volume 1 (of 10).txt\n",
      "End - Reading words count of book: Voltaire_A Philosophical Dictionary Volume 1 (of 10).txt\n",
      "\n",
      "Start - Reading words count of book: Voltaire_Candide.txt\n",
      "End - Reading words count of book: Voltaire_Candide.txt\n",
      "\n",
      "Start - Reading words count of book: Voltaire_International Short Stories French.txt\n",
      "End - Reading words count of book: Voltaire_International Short Stories French.txt\n",
      "\n",
      "Start - Reading words count of book: Voltaire_Letters on England.txt\n",
      "End - Reading words count of book: Voltaire_Letters on England.txt\n",
      "\n",
      "Start - Reading words count of book: Voltaire_Library of the Worlds Best Mystery and Detective Stories.txt\n",
      "End - Reading words count of book: Voltaire_Library of the Worlds Best Mystery and Detective Stories.txt\n",
      "\n",
      "Start - Reading words count of book: Voltaire_Micromegas.txt\n",
      "End - Reading words count of book: Voltaire_Micromegas.txt\n",
      "\n",
      "Start - Reading words count of book: Voltaire_Socrates.txt\n",
      "End - Reading words count of book: Voltaire_Socrates.txt\n",
      "\n",
      "Start - Reading words count of book: Voltaire_The Fourth Book of Virgils Aeneid and the Ninth Book of Voltaires Henriad.txt\n",
      "End - Reading words count of book: Voltaire_The Fourth Book of Virgils Aeneid and the Ninth Book of Voltaires Henriad.txt\n",
      "\n",
      "Start - Reading words count of book: Voltaire_The History of Peter the Great Emperor of Russia.txt\n",
      "End - Reading words count of book: Voltaire_The History of Peter the Great Emperor of Russia.txt\n",
      "\n",
      "Start - Reading words count of book: Voltaire_Zadig Or The Book of Fate.txt\n",
      "End - Reading words count of book: Voltaire_Zadig Or The Book of Fate.txt\n",
      "\n",
      "Reading books for: William Shakespeare\n",
      "Start - Reading words count of book: William Shakespeare_Alls Well That Ends Well.txt\n",
      "End - Reading words count of book: William Shakespeare_Alls Well That Ends Well.txt\n",
      "\n",
      "Start - Reading words count of book: William Shakespeare_As You Like It.txt\n",
      "End - Reading words count of book: William Shakespeare_As You Like It.txt\n",
      "\n",
      "Start - Reading words count of book: William Shakespeare_Henry V.txt\n",
      "End - Reading words count of book: William Shakespeare_Henry V.txt\n",
      "\n",
      "Start - Reading words count of book: William Shakespeare_Henry VIII.txt\n",
      "End - Reading words count of book: William Shakespeare_Henry VIII.txt\n",
      "\n",
      "Start - Reading words count of book: William Shakespeare_The Comedie of Errors.txt\n",
      "End - Reading words count of book: William Shakespeare_The Comedie of Errors.txt\n",
      "\n",
      "Start - Reading words count of book: William Shakespeare_The Tragedie of Anthonie and Cleopatra.txt\n",
      "End - Reading words count of book: William Shakespeare_The Tragedie of Anthonie and Cleopatra.txt\n",
      "\n",
      "Start - Reading words count of book: William Shakespeare_The Tragedie of Coriolanus.txt\n",
      "End - Reading words count of book: William Shakespeare_The Tragedie of Coriolanus.txt\n",
      "\n",
      "Start - Reading words count of book: William Shakespeare_The Tragedie of Cymbeline.txt\n",
      "End - Reading words count of book: William Shakespeare_The Tragedie of Cymbeline.txt\n",
      "\n",
      "Start - Reading words count of book: William Shakespeare_The Tragedie of Julius Caesar.txt\n",
      "End - Reading words count of book: William Shakespeare_The Tragedie of Julius Caesar.txt\n",
      "\n",
      "Start - Reading words count of book: William Shakespeare_The Tragedy of Hamlet Prince of Denmark.txt\n",
      "End - Reading words count of book: William Shakespeare_The Tragedy of Hamlet Prince of Denmark.txt\n",
      "\n"
     ]
    }
   ],
   "source": [
    "#Read saved word count RDD for every book for all authors\n",
    "wordsCountAuthorsBooks = [[] for _ in range(n_authors)]\n",
    "\n",
    "for i in range(n_authors):\n",
    "    print(f\"Reading books for: {authors[i]}\")\n",
    "    for j in range(len(booksName[i])):\n",
    "        # Getting path of books' name RDD\n",
    "        tmp = \"./RDD/Books/SingleBooks/\" + authors[i] + \"/\" + booksName[i][j] + \"/*\"\n",
    "\n",
    "        print(f\"Start - Reading words count of book: {booksName[i][j]}\")\n",
    "        result = sc.textFile(tmp).collect()\n",
    "        # Converting list of string into list of tuple\n",
    "        result = stringToTuple(result)\n",
    "        print(f\"End - Reading words count of book: {booksName[i][j]}\\n\")\n",
    "\n",
    "        wordsCountAuthorsBooks[i].append(result)\n",
    "        "
   ]
  },
  {
   "cell_type": "markdown",
   "metadata": {
    "collapsed": false
   },
   "source": [
    "# Methods NO ML"
   ]
  },
  {
   "cell_type": "code",
   "execution_count": 10,
   "metadata": {
    "ExecuteTime": {
     "start_time": "2023-10-20T15:05:24.910604900Z"
    },
    "collapsed": false
   },
   "outputs": [
    {
     "name": "stdout",
     "output_type": "stream",
     "text": [
      "Author: Arthur Conan Doyle\n",
      "Start - Reading RDD Training set\n",
      "End - Reading RDD Training set\n",
      "\n",
      "Author: Charles Dickens\n",
      "Start - Reading RDD Training set\n",
      "End - Reading RDD Training set\n",
      "\n",
      "Author: Daniel Defoe\n",
      "Start - Reading RDD Training set\n",
      "End - Reading RDD Training set\n",
      "\n",
      "Author: Edith Wharton\n",
      "Start - Reading RDD Training set\n",
      "End - Reading RDD Training set\n",
      "\n",
      "Author: Jane Austen\n",
      "Start - Reading RDD Training set\n",
      "End - Reading RDD Training set\n",
      "\n",
      "Author: Joseph Conrad\n",
      "Start - Reading RDD Training set\n",
      "End - Reading RDD Training set\n",
      "\n",
      "Author: Lewis Carroll\n",
      "Start - Reading RDD Training set\n",
      "End - Reading RDD Training set\n",
      "\n",
      "Author: Louisa May Alcott\n",
      "Start - Reading RDD Training set\n",
      "End - Reading RDD Training set\n",
      "\n",
      "Author: Voltaire\n",
      "Start - Reading RDD Training set\n",
      "End - Reading RDD Training set\n",
      "\n",
      "Author: William Shakespeare\n",
      "Start - Reading RDD Training set\n",
      "End - Reading RDD Training set\n",
      "\n"
     ]
    }
   ],
   "source": [
    "#Calculating Word Count of books in training set for every authors  \n",
    "training_index = [0, 1, 2, 3, 4, 5, 6]\n",
    "\n",
    "if not readFromSavedFile:\n",
    "    for a in range(n_authors):\n",
    "\n",
    "        print(f\"Author: {authors[a]}\")\n",
    "        empty_rdd = sc.emptyRDD()\n",
    "        #Take only the books in training_index\n",
    "        for b in training_index: #training_index:\n",
    "            empty_rdd = empty_rdd.union(sc.parallelize(wordsCountAuthorsBooks[a][b]))\n",
    "        \n",
    "        #Word Count of all books in training_index of the author\n",
    "        print(\"Start - Word Count of all books in training_index\")\n",
    "        # Filter to remove function words and punctuations char\n",
    "        result = empty_rdd.reduceByKey(lambda v1, v2: v1 + v2) \\\n",
    "                .filter(lambda w: w[0] not in function_words) \\\n",
    "                .filter(lambda w: w[0] not in punctuations_char) \\\n",
    "                .sortBy(lambda w: -w[1])             \n",
    "        print(\"End - Word Count of all books in training_index\")\n",
    "        \n",
    "        #Take total words of the training set\n",
    "        total_words = result.take(1)[0][1]\n",
    "        print(f\"Total words: {total_words}\")\n",
    "        \n",
    "        # Normalization\n",
    "        print(\"Start - Normalization of word's frequency\")\n",
    "        result = result.map(lambda x: (x[0], x[1]/total_words))\n",
    "        print(\"End - Normalization of word's frequency\")\n",
    "        \n",
    "        # Only save top 200 words \n",
    "        result = sc.parallelize(result.take(200))\n",
    "        print(\"Start - Saving RDD Training set\")\n",
    "        result.saveAsTextFile(f\"./RDD/Books/TrainingResult/{authors[a]}\")\n",
    "        print(\"End - Saving RDD Training set\\n\")    \n",
    "\n",
    "    \n",
    "trainingSetWordCountAuthors = []\n",
    "\n",
    "#Reading RDD of authors training set result\n",
    "for i in range(n_authors):\n",
    "    print(f\"Author: {authors[i]}\")\n",
    " \n",
    "    tmp = f\"./RDD/Books/TrainingResult/{authors[i]}/*\" \n",
    "\n",
    "    print(f\"Start - Reading RDD Training set\")\n",
    "    result = sc.textFile(tmp).collect()\n",
    "\n",
    "    # Converting list of string into list of tuple\n",
    "    result = stringToTuple(result)\n",
    "    print(f\"End - Reading RDD Training set\\n\")\n",
    "\n",
    "    trainingSetWordCountAuthors.append(result)\n",
    "\n"
   ]
  },
  {
   "cell_type": "code",
   "execution_count": 11,
   "metadata": {
    "ExecuteTime": {
     "start_time": "2023-10-20T16:36:04.583687900Z"
    },
    "collapsed": false
   },
   "outputs": [],
   "source": [
    "def testing(method):\n",
    "    \n",
    "    # books of author to test\n",
    "    testing_index = [7, 8, 9]\n",
    "    # result of test\n",
    "    testPredictions = [[] for _ in range(n_authors)] \n",
    "    \n",
    "    # give the predictions for every book in testing index of all authors\n",
    "    for a in range(n_authors):\n",
    "        for b in testing_index:\n",
    "            # word count of the book to test\n",
    "            bookToTest = wordsCountAuthorsBooks[a][b]\n",
    "            # take total words of the book\n",
    "            total_words = bookToTest[len(bookToTest)-1][1] \n",
    "            #take only top 100 words\n",
    "            top100 = []\n",
    "            count = 0\n",
    "            # Find the top100 words that are not in 'function_words' and not in 'punctuations_char' + normalization\n",
    "            for w in bookToTest:\n",
    "                if (w[0] not in function_words) and (w[0] not in punctuations_char):\n",
    "                    # Normalization\n",
    "                    temp = (w[0], w[1]/total_words)\n",
    "                    top100.append(temp)\n",
    "                    count += 1\n",
    "                if count == 100:\n",
    "                    break\n",
    "                    \n",
    "            # predict the author of the book and save the prediction\n",
    "            if method == 1:\n",
    "                testPredictions[a].append(method1_words_in_common(top100)) \n",
    "            elif method == 2:\n",
    "                testPredictions[a].append(method2_cosine_similarity(top100))\n",
    "            elif method == 3:\n",
    "                testPredictions[a].append(method3_jaccard_similarity(top100))\n",
    "            \n",
    "    modelAccuracy = 0\n",
    "    # Calculate the accuracy of the model\n",
    "    for a in range(n_authors):\n",
    "        print(f\"\\nAuthor: {authors[a]}\")\n",
    "        predictions = testPredictions[a]\n",
    "        print(predictions)\n",
    "        \n",
    "        accuracy = 0\n",
    "        for p in predictions:\n",
    "            if method == 1:\n",
    "                if a in p:\n",
    "                    accuracy += 1\n",
    "            else:\n",
    "                if a == p:\n",
    "                    accuracy += 1\n",
    "                \n",
    "        modelAccuracy += accuracy\n",
    "        accuracy = accuracy/len(predictions)*100\n",
    "        print(f\"Accuracy to predict the author= {accuracy}%\")\n",
    "        \n",
    "    # Print the model accuracy\n",
    "    tot = sum(len(sublist) for sublist in testPredictions)    \n",
    "    modelAccuracy = modelAccuracy/tot*100\n",
    "    print(f\"\\nModel Accuracy= {modelAccuracy}%\")"
   ]
  },
  {
   "cell_type": "markdown",
   "metadata": {
    "collapsed": false
   },
   "source": [
    "# Method 1: Only based on words in common"
   ]
  },
  {
   "cell_type": "code",
   "execution_count": 12,
   "metadata": {
    "ExecuteTime": {
     "start_time": "2023-10-20T16:23:13.182998700Z"
    },
    "collapsed": false
   },
   "outputs": [],
   "source": [
    "#Function to count words in common given two lists of tuple. Tuple=(int, 'word')\n",
    "def count_common_words(list1, list2):\n",
    "    count_words = 0\n",
    "    \n",
    "    list2top100 = list2[1:101]\n",
    "    \n",
    "    #count words in common of the 2 lists given in input\n",
    "    for w in list1:\n",
    "        for w2 in list2top100:\n",
    "            if w[0] == w2[0]:\n",
    "                count_words += 1\n",
    "                continue\n",
    "                    \n",
    "    return count_words\n"
   ]
  },
  {
   "cell_type": "code",
   "execution_count": 13,
   "metadata": {
    "ExecuteTime": {
     "start_time": "2023-10-20T16:23:13.864004Z"
    },
    "collapsed": false
   },
   "outputs": [],
   "source": [
    "# Predict the author of the book given in input\n",
    "def method1_words_in_common(top100):\n",
    "    max_count = -1\n",
    "    author_index = []\n",
    "    \n",
    "    #Check which authors have the greatest number of words in common compared to the book in input\n",
    "    for a in range(n_authors):\n",
    "        count = count_common_words(top100,trainingSetWordCountAuthors[a])\n",
    "        if count == max_count:\n",
    "            author_index.append(a)\n",
    "    \n",
    "        if count > max_count:\n",
    "            author_index = [a]\n",
    "            max_count = count \n",
    "    \n",
    "    return author_index"
   ]
  },
  {
   "cell_type": "code",
   "execution_count": 14,
   "metadata": {
    "ExecuteTime": {
     "end_time": "2023-10-20T16:40:09.521085100Z",
     "start_time": "2023-10-20T16:40:07.678789Z"
    },
    "collapsed": false
   },
   "outputs": [
    {
     "name": "stdout",
     "output_type": "stream",
     "text": [
      "\n",
      "Author: Arthur Conan Doyle\n",
      "[[5], [5], [1]]\n",
      "Accuracy to predict the author= 0.0%\n",
      "\n",
      "Author: Charles Dickens\n",
      "[[1], [1], [1]]\n",
      "Accuracy to predict the author= 100.0%\n",
      "\n",
      "Author: Daniel Defoe\n",
      "[[2], [2], [2]]\n",
      "Accuracy to predict the author= 100.0%\n",
      "\n",
      "Author: Edith Wharton\n",
      "[[3], [0], [3]]\n",
      "Accuracy to predict the author= 66.66666666666666%\n",
      "\n",
      "Author: Jane Austen\n",
      "[[4], [4], [4]]\n",
      "Accuracy to predict the author= 100.0%\n",
      "\n",
      "Author: Joseph Conrad\n",
      "[[5], [5], [5]]\n",
      "Accuracy to predict the author= 100.0%\n",
      "\n",
      "Author: Lewis Carroll\n",
      "[[6], [7], [6]]\n",
      "Accuracy to predict the author= 66.66666666666666%\n",
      "\n",
      "Author: Louisa May Alcott\n",
      "[[7], [7], [7]]\n",
      "Accuracy to predict the author= 100.0%\n",
      "\n",
      "Author: Voltaire\n",
      "[[7, 8], [8], [8]]\n",
      "Accuracy to predict the author= 100.0%\n",
      "\n",
      "Author: William Shakespeare\n",
      "[[9], [9], [8]]\n",
      "Accuracy to predict the author= 66.66666666666666%\n",
      "\n",
      "Model Accuracy= 80.0%\n"
     ]
    }
   ],
   "source": [
    "method = 1\n",
    "testing(method)"
   ]
  },
  {
   "cell_type": "markdown",
   "metadata": {
    "collapsed": false
   },
   "source": [
    "# Method 2: Using cosine similarily"
   ]
  },
  {
   "cell_type": "code",
   "execution_count": 16,
   "metadata": {
    "ExecuteTime": {
     "start_time": "2023-10-20T15:45:13.956744900Z"
    },
    "collapsed": false
   },
   "outputs": [],
   "source": [
    "# Predict the author of the book given in input\n",
    "def method2_cosine_similarity(list1top100):\n",
    "    \n",
    "    list1top100Words = [tup[0] for tup in list1top100]\n",
    "    max_coseno = -1\n",
    "    author_index = -1\n",
    "    \n",
    "    #Check which authors have the greatest number of words in common compared to the book in input\n",
    "    for a in range(n_authors):\n",
    "        wordsForCosineSimilarity = []\n",
    "        for w in list1top100Words:\n",
    "            wordsForCosineSimilarity.append(w)\n",
    "        \n",
    "        #Take top 100 of training set wordcount\n",
    "        list2top100 = trainingSetWordCountAuthors[a][1:101]\n",
    "        list2top100Words = [tup[0] for tup in list2top100]\n",
    "        for w in list2top100Words:\n",
    "            if w not in wordsForCosineSimilarity:\n",
    "                wordsForCosineSimilarity.append(w)\n",
    "        \n",
    "        wordsValuesList1 = [0 for _ in range(len(wordsForCosineSimilarity))]\n",
    "        for i, w in enumerate(wordsForCosineSimilarity):\n",
    "            if w in list1top100Words:\n",
    "                wordsValuesList1[i] = list1top100[list1top100Words.index(w)][1]\n",
    "                \n",
    "        wordsValuesList2 = [0 for _ in range(len(wordsForCosineSimilarity))]\n",
    "        for i, w in enumerate(wordsForCosineSimilarity):\n",
    "            if w in list2top100Words:\n",
    "                wordsValuesList2[i] = list2top100[list2top100Words.index(w)][1]\n",
    "        \n",
    "        array_frequenze1 = np.array(wordsValuesList1).reshape(1, -1)\n",
    "        array_frequenze2 = np.array(wordsValuesList2).reshape(1, -1)\n",
    "        coseno = cosine_similarity(array_frequenze1, array_frequenze2)\n",
    "    \n",
    "        if coseno > max_coseno:\n",
    "            author_index = a\n",
    "            max_coseno = coseno \n",
    "            \n",
    "    return author_index"
   ]
  },
  {
   "cell_type": "code",
   "execution_count": 17,
   "metadata": {
    "ExecuteTime": {
     "end_time": "2023-10-20T16:40:34.557376700Z",
     "start_time": "2023-10-20T16:40:30.872752Z"
    },
    "collapsed": false
   },
   "outputs": [
    {
     "name": "stdout",
     "output_type": "stream",
     "text": [
      "\n",
      "Author: Arthur Conan Doyle\n",
      "[5, 5, 5]\n",
      "Accuracy to predict the author= 0.0%\n",
      "\n",
      "Author: Charles Dickens\n",
      "[7, 1, 1]\n",
      "Accuracy to predict the author= 66.66666666666666%\n",
      "\n",
      "Author: Daniel Defoe\n",
      "[2, 2, 8]\n",
      "Accuracy to predict the author= 66.66666666666666%\n",
      "\n",
      "Author: Edith Wharton\n",
      "[3, 3, 3]\n",
      "Accuracy to predict the author= 100.0%\n",
      "\n",
      "Author: Jane Austen\n",
      "[4, 4, 4]\n",
      "Accuracy to predict the author= 100.0%\n",
      "\n",
      "Author: Joseph Conrad\n",
      "[5, 5, 5]\n",
      "Accuracy to predict the author= 100.0%\n",
      "\n",
      "Author: Lewis Carroll\n",
      "[6, 5, 6]\n",
      "Accuracy to predict the author= 66.66666666666666%\n",
      "\n",
      "Author: Louisa May Alcott\n",
      "[7, 7, 7]\n",
      "Accuracy to predict the author= 100.0%\n",
      "\n",
      "Author: Voltaire\n",
      "[8, 8, 8]\n",
      "Accuracy to predict the author= 100.0%\n",
      "\n",
      "Author: William Shakespeare\n",
      "[9, 9, 9]\n",
      "Accuracy to predict the author= 100.0%\n",
      "\n",
      "Model Accuracy= 80.0%\n"
     ]
    }
   ],
   "source": [
    "method = 2\n",
    "testing(method)"
   ]
  },
  {
   "cell_type": "markdown",
   "metadata": {
    "collapsed": false
   },
   "source": [
    "# Method 3: Using Jaccard similarity"
   ]
  },
  {
   "cell_type": "code",
   "execution_count": 18,
   "metadata": {
    "ExecuteTime": {
     "start_time": "2023-10-20T16:23:45.770068800Z"
    },
    "collapsed": false
   },
   "outputs": [],
   "source": [
    "# Predict the author of the book given in input\n",
    "def method3_jaccard_similarity(list1top100):\n",
    "    \n",
    "    list1top100Words = set([tup[0] for tup in list1top100])\n",
    "    max_jaccard = -1\n",
    "    author_index = -1\n",
    "    \n",
    "    #Check which authors have the greatest number of words in common compared to the book in input\n",
    "    for a in range(n_authors):\n",
    "        \n",
    "        #Take top 100 of training set wordcount\n",
    "        list2top100 = trainingSetWordCountAuthors[a][1:101]\n",
    "        list2top100Words = set([tup[0] for tup in list2top100])\n",
    "    \n",
    "        # Calculate jaccard similarity\n",
    "        intersection = len(list1top100Words.intersection(list2top100Words))\n",
    "        union = len(list1top100Words.union(list2top100Words))\n",
    "        jaccard_similarity = intersection / union\n",
    "\n",
    "    \n",
    "        if jaccard_similarity > max_jaccard:\n",
    "            author_index = a\n",
    "            max_jaccard = jaccard_similarity \n",
    "            \n",
    "    return author_index"
   ]
  },
  {
   "cell_type": "code",
   "execution_count": 19,
   "metadata": {
    "ExecuteTime": {
     "end_time": "2023-10-20T16:40:57.433653400Z",
     "start_time": "2023-10-20T16:40:56.723669700Z"
    },
    "collapsed": false
   },
   "outputs": [
    {
     "name": "stdout",
     "output_type": "stream",
     "text": [
      "\n",
      "Author: Arthur Conan Doyle\n",
      "[5, 5, 1]\n",
      "Accuracy to predict the author= 0.0%\n",
      "\n",
      "Author: Charles Dickens\n",
      "[1, 1, 1]\n",
      "Accuracy to predict the author= 100.0%\n",
      "\n",
      "Author: Daniel Defoe\n",
      "[2, 2, 2]\n",
      "Accuracy to predict the author= 100.0%\n",
      "\n",
      "Author: Edith Wharton\n",
      "[3, 0, 3]\n",
      "Accuracy to predict the author= 66.66666666666666%\n",
      "\n",
      "Author: Jane Austen\n",
      "[4, 4, 4]\n",
      "Accuracy to predict the author= 100.0%\n",
      "\n",
      "Author: Joseph Conrad\n",
      "[5, 5, 5]\n",
      "Accuracy to predict the author= 100.0%\n",
      "\n",
      "Author: Lewis Carroll\n",
      "[6, 7, 6]\n",
      "Accuracy to predict the author= 66.66666666666666%\n",
      "\n",
      "Author: Louisa May Alcott\n",
      "[7, 7, 7]\n",
      "Accuracy to predict the author= 100.0%\n",
      "\n",
      "Author: Voltaire\n",
      "[7, 8, 8]\n",
      "Accuracy to predict the author= 66.66666666666666%\n",
      "\n",
      "Author: William Shakespeare\n",
      "[9, 9, 8]\n",
      "Accuracy to predict the author= 66.66666666666666%\n",
      "\n",
      "Model Accuracy= 76.66666666666667%\n"
     ]
    }
   ],
   "source": [
    "method = 3\n",
    "testing(method)"
   ]
  },
  {
   "cell_type": "markdown",
   "metadata": {},
   "source": [
    "# ML Method"
   ]
  },
  {
   "cell_type": "code",
   "execution_count": 3,
   "metadata": {},
   "outputs": [],
   "source": [
    "n_authors = 10"
   ]
  },
  {
   "cell_type": "code",
   "execution_count": 28,
   "metadata": {},
   "outputs": [],
   "source": [
    "from sklearn.feature_extraction.text import CountVectorizer\n",
    "from sklearn.feature_extraction.text import TfidfVectorizer\n",
    "\n",
    "from sklearn.model_selection import train_test_split\n",
    "from sklearn.metrics import accuracy_score, classification_report\n",
    "\n",
    "from sklearn.svm import LinearSVC\n",
    "from sklearn.ensemble import RandomForestClassifier\n",
    "from sklearn.naive_bayes import MultinomialNB\n",
    "\n",
    "import matplotlib.pyplot as plt\n",
    "from sklearn.metrics import confusion_matrix\n",
    "import seaborn as sns"
   ]
  },
  {
   "cell_type": "code",
   "execution_count": 12,
   "metadata": {},
   "outputs": [],
   "source": [
    "#Create authorsBooksForVectorizer array. For every author we store his books text as a string.\n",
    "\n",
    "authorsBooksForVectorizer = [[] for _ in range(n_authors)]\n",
    "\n",
    "\n",
    "for a in range(n_authors):\n",
    "    tmp_filename = os.path.join(my_dir, authors[a])\n",
    "    for l in range(len(booksName[a])):\n",
    "        #Create the path of the text of the book\n",
    "        input_filename = os.path.join(tmp_filename, booksName[a][l])\n",
    "\n",
    "        #Use pyspark to semplify the text and reduce the rows in a single row string\n",
    "        text = clearText(input_filename) \\\n",
    "            .map(lambda w: w.lower()) \\\n",
    "            .map(lambda line: \" \".join([word for word in line.split() if word not in function_words])) \\\n",
    "            .map(lambda line: \" \".join([word for word in line.split() if word not in punctuations_char])) \\\n",
    "            .reduce(lambda x, y: x + \" \" + y)\n",
    "            \n",
    "        #Save text in authorsBooksForVectorizer\n",
    "        authorsBooksForVectorizer[a].append(text)\n"
   ]
  },
  {
   "cell_type": "code",
   "execution_count": 13,
   "metadata": {},
   "outputs": [],
   "source": [
    "#Preparing data for the ML models\n",
    "\n",
    "#We flat the variable authorsBooksForVectorizer\n",
    "nested_array = np.array(authorsBooksForVectorizer).flatten()\n",
    "\n",
    "#Creating author_labels\n",
    "authors_label = []\n",
    "for i in range(n_authors):\n",
    "    for _ in range(n_authors):\n",
    "        authors_label.append(i)"
   ]
  },
  {
   "cell_type": "code",
   "execution_count": 14,
   "metadata": {},
   "outputs": [],
   "source": [
    "#TfidfVectorizer  (Term Frequency-Inverse Document Frequency Vectorizer)\n",
    "#Feature TF-IDF extraction from the text string\n",
    "vectorizer = CountVectorizer()\n",
    "#vectorizer = TfidfVectorizer()\n",
    "X = vectorizer.fit_transform(nested_array)"
   ]
  },
  {
   "cell_type": "code",
   "execution_count": 15,
   "metadata": {},
   "outputs": [],
   "source": [
    "#Convert authors_label in np array\n",
    "y = np.array(authors_label)"
   ]
  },
  {
   "cell_type": "code",
   "execution_count": 16,
   "metadata": {},
   "outputs": [],
   "source": [
    "#Split data in train and test\n",
    "X_train, X_test, y_train, y_test = train_test_split(X, y, test_size=0.3, random_state=42)"
   ]
  },
  {
   "cell_type": "code",
   "execution_count": 40,
   "metadata": {},
   "outputs": [
    {
     "data": {
      "text/plain": [
       "{'Bret Harte': 0,\n",
       " 'Charles Dickens': 1,\n",
       " 'Daniel Defoe': 2,\n",
       " 'Edith Wharton': 3,\n",
       " 'Jane Austen': 4,\n",
       " 'Joseph Conrad': 5,\n",
       " 'Lewis Carroll': 6,\n",
       " 'Louisa May Alcott': 7,\n",
       " 'Voltaire': 8,\n",
       " 'William Shakespeare': 9}"
      ]
     },
     "execution_count": 40,
     "metadata": {},
     "output_type": "execute_result"
    }
   ],
   "source": [
    "#Useful variable for the confusion matrix plot\n",
    "label_mapping = {author: i for i, author in enumerate(authors)}\n",
    "label_mapping"
   ]
  },
  {
   "cell_type": "code",
   "execution_count": 45,
   "metadata": {},
   "outputs": [],
   "source": [
    "#choose a classifier_type and calculate the accuracy score\n",
    "def classifier_function(classifier_type):\n",
    "    if classifier_type == 'SVC':\n",
    "        classifier = LinearSVC()\n",
    "    if classifier_type == 'RandomForest':\n",
    "        classifier = RandomForestClassifier()\n",
    "    if classifier_type == 'Bayes':\n",
    "        classifier = MultinomialNB()\n",
    "\n",
    "    classifier.fit(X_train, y_train)\n",
    "    y_pred = classifier.predict(X_test)\n",
    "    accuracy = accuracy_score(y_test, y_pred)\n",
    "    report = classification_report(y_test, y_pred)\n",
    "\n",
    "    print(f\"Accuracy score of {classifier_type} : {accuracy}\")\n",
    "    print(f\"Classification Report: \\n{report}\")\n",
    "\n",
    "\n",
    "    # Calculate the confusion matrix\n",
    "    conf_matrix = confusion_matrix(y_test, y_pred)\n",
    "\n",
    "    # Create a heatmap of the confusion matrix\n",
    "    plt.figure(figsize=(8, 6))\n",
    "    sns.heatmap(conf_matrix, annot=True, fmt=\"d\", cmap=\"Blues\",\n",
    "                xticklabels=label_mapping.keys(), yticklabels=label_mapping.keys())\n",
    "    plt.xlabel(\"Valori Predetti\")\n",
    "    plt.ylabel(\"Valori Veri\")\n",
    "    plt.title(\"Matrice di Confusione\")\n",
    "    plt.show()\n",
    "\n",
    "    return accuracy"
   ]
  },
  {
   "cell_type": "code",
   "execution_count": 46,
   "metadata": {},
   "outputs": [
    {
     "name": "stderr",
     "output_type": "stream",
     "text": [
      "c:\\Users\\giaco\\anaconda3\\envs\\BigData\\lib\\site-packages\\sklearn\\svm\\_classes.py:32: FutureWarning: The default value of `dual` will change from `True` to `'auto'` in 1.5. Set the value of `dual` explicitly to suppress the warning.\n",
      "  warnings.warn(\n"
     ]
    },
    {
     "name": "stdout",
     "output_type": "stream",
     "text": [
      "Accuracy score of SVC : 0.8666666666666667\n",
      "Classification Report: \n",
      "              precision    recall  f1-score   support\n",
      "\n",
      "           0       1.00      1.00      1.00         3\n",
      "           1       1.00      1.00      1.00         4\n",
      "           2       0.50      1.00      0.67         2\n",
      "           3       1.00      0.75      0.86         4\n",
      "           4       1.00      1.00      1.00         4\n",
      "           5       1.00      1.00      1.00         2\n",
      "           6       0.33      1.00      0.50         1\n",
      "           7       1.00      0.80      0.89         5\n",
      "           8       1.00      0.33      0.50         3\n",
      "           9       1.00      1.00      1.00         2\n",
      "\n",
      "    accuracy                           0.87        30\n",
      "   macro avg       0.88      0.89      0.84        30\n",
      "weighted avg       0.94      0.87      0.87        30\n",
      "\n"
     ]
    },
    {
     "data": {
      "image/png": "[encoded data removed]",
      "text/plain": [
       "<Figure size 800x600 with 2 Axes>"
      ]
     },
     "metadata": {},
     "output_type": "display_data"
    }
   ],
   "source": [
    "#Linear SVM classifier\n",
    "accuracy_svc = classifier_function('SVC')"
   ]
  },
  {
   "cell_type": "code",
   "execution_count": 47,
   "metadata": {},
   "outputs": [
    {
     "name": "stdout",
     "output_type": "stream",
     "text": [
      "Accuracy score of RandomForest : 0.7333333333333333\n",
      "Classification Report: \n",
      "              precision    recall  f1-score   support\n",
      "\n",
      "           0       1.00      1.00      1.00         3\n",
      "           1       1.00      0.75      0.86         4\n",
      "           2       0.50      1.00      0.67         2\n",
      "           3       0.67      0.50      0.57         4\n",
      "           4       1.00      0.75      0.86         4\n",
      "           5       1.00      0.50      0.67         2\n",
      "           6       0.20      1.00      0.33         1\n",
      "           7       1.00      0.80      0.89         5\n",
      "           8       0.50      0.33      0.40         3\n",
      "           9       1.00      1.00      1.00         2\n",
      "\n",
      "    accuracy                           0.73        30\n",
      "   macro avg       0.79      0.76      0.72        30\n",
      "weighted avg       0.85      0.73      0.76        30\n",
      "\n"
     ]
    },
    {
     "data": {
      "image/png": "[encoded data removed]",
      "text/plain": [
       "<Figure size 800x600 with 2 Axes>"
      ]
     },
     "metadata": {},
     "output_type": "display_data"
    }
   ],
   "source": [
    "#Random Forest Classifier\n",
    "accuracy_random_forest = classifier_function('RandomForest')"
   ]
  },
  {
   "cell_type": "code",
   "execution_count": 48,
   "metadata": {},
   "outputs": [
    {
     "name": "stdout",
     "output_type": "stream",
     "text": [
      "Accuracy score of Bayes : 0.9\n",
      "Classification Report: \n",
      "              precision    recall  f1-score   support\n",
      "\n",
      "           0       1.00      1.00      1.00         3\n",
      "           1       1.00      1.00      1.00         4\n",
      "           2       0.50      1.00      0.67         2\n",
      "           3       1.00      0.75      0.86         4\n",
      "           4       1.00      1.00      1.00         4\n",
      "           5       0.67      1.00      0.80         2\n",
      "           6       1.00      1.00      1.00         1\n",
      "           7       1.00      1.00      1.00         5\n",
      "           8       1.00      0.33      0.50         3\n",
      "           9       1.00      1.00      1.00         2\n",
      "\n",
      "    accuracy                           0.90        30\n",
      "   macro avg       0.92      0.91      0.88        30\n",
      "weighted avg       0.94      0.90      0.90        30\n",
      "\n"
     ]
    },
    {
     "data": {
      "image/png": "[encoded data removed]",
      "text/plain": [
       "<Figure size 800x600 with 2 Axes>"
      ]
     },
     "metadata": {},
     "output_type": "display_data"
    }
   ],
   "source": [
    "#Bayes Classifier\n",
    "accuracy_bayes = classifier_function('Bayes')"
   ]
  },
  {
   "cell_type": "code",
   "execution_count": 52,
   "metadata": {},
   "outputs": [
    {
     "data": {
      "image/png": "[encoded data removed]",
      "text/plain": [
       "<Figure size 800x600 with 1 Axes>"
      ]
     },
     "metadata": {},
     "output_type": "display_data"
    }
   ],
   "source": [
    "#Plot the bar chart of the ML classificators\n",
    "\n",
    "list_classifiers = [\"SVC\", \"RandomForest\", \"Bayes\"]\n",
    "accuracies = [accuracy_svc, accuracy_random_forest, accuracy_bayes]\n",
    "accuracies_percent = [acc * 100 for acc in accuracies]\n",
    "\n",
    "\n",
    "plt.figure(figsize=(8,6))\n",
    "bars = plt.bar(list_classifiers, accuracies_percent, color = 'skyblue')\n",
    "plt.xlabel(\"Classificatore\")\n",
    "plt.ylabel('Accuratezza (%)')\n",
    "plt.title(\"Accuratezza dei classificatori\")\n",
    "plt.ylim(0,100)\n",
    "\n",
    "for bar, acc in zip(bars, accuracies_percent):\n",
    "    plt.text(bar.get_x() + bar.get_width() / 2, acc, f'{acc:.2f}%', ha='center', va='bottom', fontsize=12)\n",
    "plt.show()"
   ]
  },
  {
   "cell_type": "markdown",
   "metadata": {},
   "source": [
    "# Other"
   ]
  },
  {
   "cell_type": "code",
   "execution_count": 177,
   "metadata": {},
   "outputs": [
    {
     "name": "stderr",
     "output_type": "stream",
     "text": [
      "c:\\Users\\giaco\\anaconda3\\envs\\BigData\\lib\\site-packages\\sklearn\\svm\\_classes.py:32: FutureWarning: The default value of `dual` will change from `True` to `'auto'` in 1.5. Set the value of `dual` explicitly to suppress the warning.\n",
      "  warnings.warn(\n"
     ]
    },
    {
     "data": {
      "text/html": [
       "<style>#sk-container-id-22 {color: black;}#sk-container-id-22 pre{padding: 0;}#sk-container-id-22 div.sk-toggleable {background-color: white;}#sk-container-id-22 label.sk-toggleable__label {cursor: pointer;display: block;width: 100%;margin-bottom: 0;padding: 0.3em;box-sizing: border-box;text-align: center;}#sk-container-id-22 label.sk-toggleable__label-arrow:before {content: \"▸\";float: left;margin-right: 0.25em;color: #696969;}#sk-container-id-22 label.sk-toggleable__label-arrow:hover:before {color: black;}#sk-container-id-22 div.sk-estimator:hover label.sk-toggleable__label-arrow:before {color: black;}#sk-container-id-22 div.sk-toggleable__content {max-height: 0;max-width: 0;overflow: hidden;text-align: left;background-color: #f0f8ff;}#sk-container-id-22 div.sk-toggleable__content pre {margin: 0.2em;color: black;border-radius: 0.25em;background-color: #f0f8ff;}#sk-container-id-22 input.sk-toggleable__control:checked~div.sk-toggleable__content {max-height: 200px;max-width: 100%;overflow: auto;}#sk-container-id-22 input.sk-toggleable__control:checked~label.sk-toggleable__label-arrow:before {content: \"▾\";}#sk-container-id-22 div.sk-estimator input.sk-toggleable__control:checked~label.sk-toggleable__label {background-color: #d4ebff;}#sk-container-id-22 div.sk-label input.sk-toggleable__control:checked~label.sk-toggleable__label {background-color: #d4ebff;}#sk-container-id-22 input.sk-hidden--visually {border: 0;clip: rect(1px 1px 1px 1px);clip: rect(1px, 1px, 1px, 1px);height: 1px;margin: -1px;overflow: hidden;padding: 0;position: absolute;width: 1px;}#sk-container-id-22 div.sk-estimator {font-family: monospace;background-color: #f0f8ff;border: 1px dotted black;border-radius: 0.25em;box-sizing: border-box;margin-bottom: 0.5em;}#sk-container-id-22 div.sk-estimator:hover {background-color: #d4ebff;}#sk-container-id-22 div.sk-parallel-item::after {content: \"\";width: 100%;border-bottom: 1px solid gray;flex-grow: 1;}#sk-container-id-22 div.sk-label:hover label.sk-toggleable__label {background-color: #d4ebff;}#sk-container-id-22 div.sk-serial::before {content: \"\";position: absolute;border-left: 1px solid gray;box-sizing: border-box;top: 0;bottom: 0;left: 50%;z-index: 0;}#sk-container-id-22 div.sk-serial {display: flex;flex-direction: column;align-items: center;background-color: white;padding-right: 0.2em;padding-left: 0.2em;position: relative;}#sk-container-id-22 div.sk-item {position: relative;z-index: 1;}#sk-container-id-22 div.sk-parallel {display: flex;align-items: stretch;justify-content: center;background-color: white;position: relative;}#sk-container-id-22 div.sk-item::before, #sk-container-id-22 div.sk-parallel-item::before {content: \"\";position: absolute;border-left: 1px solid gray;box-sizing: border-box;top: 0;bottom: 0;left: 50%;z-index: -1;}#sk-container-id-22 div.sk-parallel-item {display: flex;flex-direction: column;z-index: 1;position: relative;background-color: white;}#sk-container-id-22 div.sk-parallel-item:first-child::after {align-self: flex-end;width: 50%;}#sk-container-id-22 div.sk-parallel-item:last-child::after {align-self: flex-start;width: 50%;}#sk-container-id-22 div.sk-parallel-item:only-child::after {width: 0;}#sk-container-id-22 div.sk-dashed-wrapped {border: 1px dashed gray;margin: 0 0.4em 0.5em 0.4em;box-sizing: border-box;padding-bottom: 0.4em;background-color: white;}#sk-container-id-22 div.sk-label label {font-family: monospace;font-weight: bold;display: inline-block;line-height: 1.2em;}#sk-container-id-22 div.sk-label-container {text-align: center;}#sk-container-id-22 div.sk-container {/* jupyter's `normalize.less` sets `[hidden] { display: none; }` but bootstrap.min.css set `[hidden] { display: none !important; }` so we also need the `!important` here to be able to override the default hidden behavior on the sphinx rendered scikit-learn.org. See: https://github.com/scikit-learn/scikit-learn/issues/21755 */display: inline-block !important;position: relative;}#sk-container-id-22 div.sk-text-repr-fallback {display: none;}</style><div id=\"sk-container-id-22\" class=\"sk-top-container\"><div class=\"sk-text-repr-fallback\"><pre>LinearSVC()</pre><b>In a Jupyter environment, please rerun this cell to show the HTML representation or trust the notebook. <br />On GitHub, the HTML representation is unable to render, please try loading this page with nbviewer.org.</b></div><div class=\"sk-container\" hidden><div class=\"sk-item\"><div class=\"sk-estimator sk-toggleable\"><input class=\"sk-toggleable__control sk-hidden--visually\" id=\"sk-estimator-id-22\" type=\"checkbox\" checked><label for=\"sk-estimator-id-22\" class=\"sk-toggleable__label sk-toggleable__label-arrow\">LinearSVC</label><div class=\"sk-toggleable__content\"><pre>LinearSVC()</pre></div></div></div></div></div>"
      ],
      "text/plain": [
       "LinearSVC()"
      ]
     },
     "execution_count": 177,
     "metadata": {},
     "output_type": "execute_result"
    }
   ],
   "source": [
    "classifier = LinearSVC()\n",
    "#classifier = RandomForestClassifier()\n",
    "#classifier = MultinomialNB()\n",
    "classifier.fit(X_train, y_train)"
   ]
  },
  {
   "cell_type": "code",
   "execution_count": 178,
   "metadata": {},
   "outputs": [],
   "source": [
    "y_pred = classifier.predict(X_test)"
   ]
  },
  {
   "cell_type": "code",
   "execution_count": 179,
   "metadata": {},
   "outputs": [
    {
     "data": {
      "text/plain": [
       "array([2, 5, 7, 4, 4, 5, 2, 2, 1, 6, 1, 6, 6, 5, 9, 0, 7, 7, 1, 4, 5, 2,\n",
       "       2, 4, 6, 1, 4, 9, 0, 7])"
      ]
     },
     "execution_count": 179,
     "metadata": {},
     "output_type": "execute_result"
    }
   ],
   "source": [
    "y_pred"
   ]
  },
  {
   "cell_type": "code",
   "execution_count": 180,
   "metadata": {},
   "outputs": [
    {
     "data": {
      "text/plain": [
       "array([8, 5, 7, 4, 4, 3, 2, 8, 1, 0, 1, 3, 7, 3, 9, 0, 7, 7, 1, 3, 5, 8,\n",
       "       2, 4, 6, 1, 4, 9, 0, 7])"
      ]
     },
     "execution_count": 180,
     "metadata": {},
     "output_type": "execute_result"
    }
   ],
   "source": [
    "y_test"
   ]
  },
  {
   "cell_type": "code",
   "execution_count": 181,
   "metadata": {},
   "outputs": [
    {
     "name": "stdout",
     "output_type": "stream",
     "text": [
      "0.7\n"
     ]
    }
   ],
   "source": [
    "accuracy = accuracy_score(y_test, y_pred)\n",
    "\n",
    "print(accuracy)"
   ]
  },
  {
   "cell_type": "markdown",
   "metadata": {},
   "source": [
    "# Celle di Test"
   ]
  },
  {
   "cell_type": "code",
   "execution_count": 21,
   "metadata": {
    "ExecuteTime": {
     "start_time": "2023-10-17T08:28:37.920441800Z"
    },
    "collapsed": false
   },
   "outputs": [
    {
     "name": "stdout",
     "output_type": "stream",
     "text": [
      "['total_words', 'man', 'little', 'see', 'great', 'time', 'day', 'come', 'came', 'own', 'know', 'think', 'good', 'made', 'hand', 'long', 'house', 'saw', 'heard', 'old', 'thought', 'take', 'go', 'make', 'life', 'give', 'put', 'place', 'set', 'thing']\n",
      "30\n"
     ]
    }
   ],
   "source": [
    "#To find same words in top200 words of all authors\n",
    "same_words = []\n",
    "\n",
    "#take first author to compare the same words of the other authors \n",
    "first = trainingSetWordCountAuthors[0]\n",
    "\n",
    "#Compare words of the first author to others to find same words\n",
    "for _, word in first:\n",
    "    count = 0\n",
    "    for i in range(1,10):\n",
    "        for _, word2 in trainingSetWordCountAuthors[i]:\n",
    "            if word == word2:\n",
    "                count += 1\n",
    "                continue\n",
    "    if count == 9:\n",
    "        same_words.append(word)\n",
    "\n",
    "print(same_words)\n",
    "print(len(same_words))\n",
    "same_words = ['total_words']"
   ]
  }
 ],
 "metadata": {
  "kernelspec": {
   "display_name": "Python 3 (ipykernel)",
   "language": "python",
   "name": "python3"
  },
  "language_info": {
   "codemirror_mode": {
    "name": "ipython",
    "version": 3
   },
   "file_extension": ".py",
   "mimetype": "text/x-python",
   "name": "python",
   "nbconvert_exporter": "python",
   "pygments_lexer": "ipython3",
   "version": "3.10.10"
  }
 },
 "nbformat": 4,
 "nbformat_minor": 4
}
