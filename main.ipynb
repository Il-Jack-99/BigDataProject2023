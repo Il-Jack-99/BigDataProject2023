{
 "cells": [
  {
   "cell_type": "code",
   "execution_count": 1,
   "metadata": {},
   "outputs": [],
   "source": [
    "import pyspark\n",
    "import os\n",
    "sc = pyspark.SparkContext(appName=\"BigDataProject\")"
   ]
  },
  {
   "cell_type": "code",
   "execution_count": 2,
   "metadata": {},
   "outputs": [],
   "source": [
    "my_dir = \"./BooksDataset\""
   ]
  },
  {
   "cell_type": "code",
   "execution_count": 3,
   "metadata": {},
   "outputs": [
    {
     "data": {
      "text/html": [
       "\n",
       "        <div>\n",
       "            <p><b>SparkContext</b></p>\n",
       "\n",
       "            <p><a href=\"http://GiacomoPC:4040\">Spark UI</a></p>\n",
       "\n",
       "            <dl>\n",
       "              <dt>Version</dt>\n",
       "                <dd><code>v3.2.1</code></dd>\n",
       "              <dt>Master</dt>\n",
       "                <dd><code>local[*]</code></dd>\n",
       "              <dt>AppName</dt>\n",
       "                <dd><code>BigDataProject</code></dd>\n",
       "            </dl>\n",
       "        </div>\n",
       "        "
      ],
      "text/plain": [
       "<SparkContext master=local[*] appName=BigDataProject>"
      ]
     },
     "execution_count": 3,
     "metadata": {},
     "output_type": "execute_result"
    }
   ],
   "source": [
    "sc"
   ]
  },
  {
   "cell_type": "code",
   "execution_count": 49,
   "metadata": {},
   "outputs": [
    {
     "name": "stdout",
     "output_type": "stream",
     "text": [
      "['Arthur Conan Doyle', 'Charles Dickens', 'Daniel Defoe', 'Edith Wharton', 'Jane Austen', 'Joseph Conrad', 'Lewis Carroll', 'Louisa May Alcott', 'Voltaire', 'William Shakespeare']\n"
     ]
    }
   ],
   "source": [
    "#Read Authors\n",
    "\n",
    "authors = []\n",
    "\n",
    "for file in os.listdir(my_dir):\n",
    "    d = os.path.join(my_dir, file)\n",
    "    if os.path.isdir(d):\n",
    "        res = file\n",
    "        authors.append(res)\n",
    "print(authors)"
   ]
  },
  {
   "cell_type": "code",
   "execution_count": 50,
   "metadata": {},
   "outputs": [
    {
     "name": "stdout",
     "output_type": "stream",
     "text": [
      "[['Arthur Conan Doyle_Beyond the City.txt', 'Arthur Conan Doyle_The Adventure of the Cardboard Box.txt', 'Arthur Conan Doyle_The Adventure of the Dying Detective.txt', 'Arthur Conan Doyle_The Adventure of the Red Circle.txt', 'Arthur Conan Doyle_The Adventures of Gerard.txt', 'Arthur Conan Doyle_The Adventures of Sherlock Holmes.txt', 'Arthur Conan Doyle_The British Campaign in France and Flanders 1914.txt', \"Arthur Conan Doyle_The Cabman's Story.txt\", 'Arthur Conan Doyle_The Captain of the Polestar and Other Tales.txt', 'Arthur Conan Doyle_The case of Oscar Slater.txt'], ['Charles Dickens_A Christmas Carol.txt', 'Charles Dickens_American Notes for General Circulation.txt', 'Charles Dickens_Bardell v. Pickwick.txt', 'Charles Dickens_Bleak House.txt', \"Charles Dickens_Charles Dickens' Children Stories.txt\", 'Charles Dickens_David Copperfield.txt', 'Charles Dickens_Oliver Twist.txt', 'Charles Dickens_The Cricket on the Hearth.txt', 'Charles Dickens_The Life And Adventures Of Nicholas Nickleby.txt', 'Charles Dickens_The Mystery of Edwin Drood.txt'], ['Daniel Defoe_A Vindication of the Press.txt', 'Daniel Defoe_An American Robinson Crusoe.txt', 'Daniel Defoe_An Appeal to Honour and Justice, Though It Be of His Worst Enemies.txt', 'Daniel Defoe_And What if the Pretender should Come.txt', 'Daniel Defoe_Atalantis Major.txt', 'Daniel Defoe_Augusta Triumphans.txt', 'Daniel Defoe_History of the Plague in London.txt', 'Daniel Defoe_The Complete English Tradesman (1839 ed.).txt', 'Daniel Defoe_The Life and Adventures of Robinson Crusoe.txt', 'Daniel Defoe_The Storm. An Essay.txt'], ['Edith Wharton_Artemis to Actaeon, and Other Verses.txt', 'Edith Wharton_Bunner Sisters.txt', 'Edith Wharton_Coming Home.txt', 'Edith Wharton_Crucial Instances.txt', 'Edith Wharton_The Age of Innocence.txt', 'Edith Wharton_The Book of the Homeless.txt', 'Edith Wharton_The Choice.txt', 'Edith Wharton_The Custom of the Country.txt', 'Edith Wharton_The Decoration of Houses.txt', 'Edith Wharton_The Greater Inclination.txt'], ['Jane Austen_Emma.txt', 'Jane Austen_Lady Susan.txt', 'Jane Austen_Love and Freindship.txt', 'Jane Austen_Mansfield Park.txt', 'Jane Austen_Northanger Abbey.txt', 'Jane Austen_Persuasion.txt', 'Jane Austen_Pride and Prejudice.txt', 'Jane Austen_Sense and Sensibility.txt', 'Jane Austen_The Letters of Jane Austen.txt', 'Jane Austen_The Watsons.txt'], [\"Joseph Conrad_Almayer's Folly A Story of an Eastern River.txt\", 'Joseph Conrad_Amy Foster.txt', 'Joseph Conrad_Chance A Tale in Two Parts.txt', 'Joseph Conrad_End of the Tether.txt', 'Joseph Conrad_Falk.txt', 'Joseph Conrad_Gaspar Ruiz.txt', 'Joseph Conrad_Lord Jim.txt', 'Joseph Conrad_The Arrow of Gold.txt', 'Joseph Conrad_The Inheritors.txt', 'Joseph Conrad_The Mirror of the Sea.txt'], ['Lewis Carroll_A Tangled Tale.txt', \"Lewis Carroll_Alice's Adventures in Wonderland.txt\", 'Lewis Carroll_Eight or Nine Wise Words about Letter-Writing.txt', 'Lewis Carroll_Phantasmagoria.txt', 'Lewis Carroll_Rhyme and reason.txt', 'Lewis Carroll_Sylvie and Bruno.txt', 'Lewis Carroll_The Hunting of the Snark An Agony in Eight Fits.txt', 'Lewis Carroll_The Nursery Alice.txt', 'Lewis Carroll_Three Sunsets and Other Poems.txt', 'Lewis Carroll_Through the Looking-Glass.txt'], ['Louisa May Alcott_A Garland for Girls.txt', 'Louisa May Alcott_A Modern Cinderella; Or, The Little Old Shoe, and Other Stories.txt', 'Louisa May Alcott_Eight Cousins.txt', 'Louisa May Alcott_Flower Fables.txt', 'Louisa May Alcott_Hospital Sketches.txt', 'Louisa May Alcott_Jack and Jill.txt', \"Louisa May Alcott_Kitty's Class Day and Other Stories.txt\", 'Louisa May Alcott_Rose in Bloom.txt', 'Louisa May Alcott_The Candy Country.txt', 'Louisa May Alcott_Under the Lilacs.txt'], ['Voltaire_A Philosophical Dictionary, Volume 1 (of 10).txt', 'Voltaire_Candide.txt', 'Voltaire_International Short Stories, French.txt', 'Voltaire_Letters on England.txt', \"Voltaire_Library of the World's Best Mystery and Detective Stories.txt\", 'Voltaire_Micromegas.txt', 'Voltaire_Socrates.txt', \"Voltaire_The Fourth Book of Virgil's Aeneid and the Ninth Book of Voltaire's Henriad.txt\", 'Voltaire_The History of Peter the Great, Emperor of Russia.txt', 'Voltaire_Zadig; Or, The Book of Fate.txt'], ['William Shakespeare_All’s Well That Ends Well.txt', 'William Shakespeare_As You Like It.txt', 'William Shakespeare_Henry V.txt', 'William Shakespeare_Henry VIII.txt', 'William Shakespeare_The Comedie of Errors.txt', 'William Shakespeare_The Tragedie of Anthonie, and Cleopatra.txt', 'William Shakespeare_The Tragedie of Coriolanus.txt', 'William Shakespeare_The Tragedie of Cymbeline.txt', 'William Shakespeare_The Tragedie of Julius Caesar.txt', 'William Shakespeare_The Tragedy of Hamlet, Prince of Denmark.txt']]\n"
     ]
    }
   ],
   "source": [
    "#Read Books per Authors\n",
    "books = [[] for _ in range(len(authors))]\n",
    "\n",
    "\n",
    "for i in range(len(authors)):\n",
    "    mydiraut = my_dir+\"/\"+authors[i]\n",
    "    for file in os.listdir(mydiraut):\n",
    "        d = os.path.join(mydiraut, file)\n",
    "        books[i].append(file)\n",
    "\n",
    "print(books)\n",
    "    \n"
   ]
  },
  {
   "cell_type": "code",
   "execution_count": 56,
   "metadata": {},
   "outputs": [
    {
     "name": "stdout",
     "output_type": "stream",
     "text": [
      "./BooksDataset\\Arthur Conan Doyle\\Arthur Conan Doyle_The Captain of the Polestar and Other Tales.txt\n",
      "./BooksDataset\\Arthur Conan Doyle\\Arthur Conan Doyle_The case of Oscar Slater.txt\n",
      "Arthur Conan Doyle [[(5205, 'the'), (2620, 'and'), (2616, 'of'), (2096, 'a'), (2032, 'to'), (1837, 'i'), (1319, 'in'), (1271, 'was'), (1092, 'he'), (1048, 'his'), (1031, 'that'), (842, 'it'), (818, 'as'), (803, 'my'), (712, 'had'), (697, 'with'), (636, 'which'), (587, 'for'), (566, 'at'), (532, 'is'), (476, 'have'), (465, 'upon'), (423, 'from'), (405, 'you'), (394, 'be'), (393, 'but'), (370, 'by'), (367, 'on'), (335, 'this'), (330, ''), (325, 'me'), (322, 'her'), (317, 'were'), (307, 'there'), (304, 'one'), (281, 'an'), (277, 'not'), (269, 'all'), (266, 'him'), (257, 'when'), (257, 'been'), (254, 'we'), (252, 'some'), (252, 'she'), (245, 'so'), (244, 'out'), (235, 'into'), (225, 'would'), (222, 'who'), (221, 'up'), (217, 'their'), (214, 'they'), (205, 'or'), (202, 'no'), (198, 'could'), (182, 'are'), (176, 'what'), (169, 'down'), (164, 'over'), (163, 'very'), (163, 'man'), (162, 'said'), (159, 'our'), (154, 'more'), (145, 'little'), (145, 'has'), (141, 'about'), (140, 'will'), (139, 'any'), (137, 'if'), (135, 'great'), (129, 'then'), (124, 'such'), (123, 'your'), (120, 'old'), (116, 'before'), (115, 'than'), (115, 'came'), (114, 'may'), (113, 'other'), (113, 'never'), (111, 'time'), (106, 'after'), (106, '“i'), (105, 'them'), (105, 'still'), (105, 'should'), (100, 'do'), (100, 'two'), (99, 'see'), (99, 'through'), (96, 'can'), (95, 'however,'), (93, 'come'), (92, 'long'), (92, 'every'), (89, 'am'), (87, 'last'), (86, 'back'), (85, 'away')], [(1397, 'the'), (553, 'of'), (458, 'to'), (417, 'and'), (389, 'a'), (378, 'that'), (351, 'was'), (342, 'in'), (277, 'he'), (216, 'had'), (195, 'it'), (174, 'is'), (165, 'his'), (139, 'she'), (132, 'which'), (128, 'this'), (127, ''), (127, 'at'), (122, 'not'), (121, 'on'), (120, 'as'), (120, 'be'), (112, 'for'), (107, 'man'), (101, 'been'), (100, 'with'), (100, 'by'), (97, 'from'), (96, 'have'), (83, 'her'), (83, 'were'), (82, 'but'), (81, 'i'), (81, 'upon'), (81, 'would'), (81, 'one'), (71, 'a.'), (70, 'evidence'), (68, 'who'), (68, 'q.'), (66, 'slater'), (65, 'or'), (57, 'him'), (55, 'if'), (54, 'there'), (54, 'miss'), (54, 'they'), (53, 'all'), (52, 'no'), (49, 'could'), (48, 'an'), (48, 'did'), (47, 'you'), (46, 'about'), (43, 'some'), (42, 'any'), (40, 'may'), (38, 'only'), (38, 'before'), (38, 'very'), (36, 'two'), (36, 'after'), (35, 'out'), (35, 'seen'), (34, 'these'), (34, 'slater’s'), (33, 'other'), (33, 'saw'), (33, 'witnesses'), (31, 'such'), (30, 'adams'), (29, 'when'), (29, 'their'), (29, 'police'), (28, 'do'), (28, 'what'), (26, 'first'), (26, 'lambie'), (26, 'prisoner'), (25, 'said'), (25, 'case'), (25, 'has'), (25, 'time'), (25, 'so'), (25, 'will'), (24, 'must'), (24, 'never'), (24, 'how'), (24, 'glasgow'), (23, 'new'), (23, 'into'), (23, 'point'), (23, 'might'), (22, 'more'), (22, 'old'), (22, 'should'), (22, 'found'), (21, 'house'), (21, 'up'), (20, 'dark')]]\n",
      "./BooksDataset\\Charles Dickens\\Charles Dickens_The Life And Adventures Of Nicholas Nickleby.txt\n",
      "./BooksDataset\\Charles Dickens\\Charles Dickens_The Mystery of Edwin Drood.txt\n"
     ]
    },
    {
     "name": "stderr",
     "output_type": "stream",
     "text": [
      "ERROR:root:KeyboardInterrupt while sending command.\n",
      "Traceback (most recent call last):\n",
      "  File \"c:\\Users\\giaco\\anaconda3\\envs\\BigData\\lib\\site-packages\\py4j\\java_gateway.py\", line 1038, in send_command\n",
      "    response = connection.send_command(command)\n",
      "  File \"c:\\Users\\giaco\\anaconda3\\envs\\BigData\\lib\\site-packages\\py4j\\clientserver.py\", line 475, in send_command\n",
      "    answer = smart_decode(self.stream.readline()[:-1])\n",
      "  File \"c:\\Users\\giaco\\anaconda3\\envs\\BigData\\lib\\socket.py\", line 705, in readinto\n",
      "    return self._sock.recv_into(b)\n",
      "KeyboardInterrupt\n"
     ]
    },
    {
     "ename": "KeyboardInterrupt",
     "evalue": "",
     "output_type": "error",
     "traceback": [
      "\u001b[1;31m---------------------------------------------------------------------------\u001b[0m",
      "\u001b[1;31mKeyboardInterrupt\u001b[0m                         Traceback (most recent call last)",
      "\u001b[1;32mc:\\Users\\giaco\\Desktop\\BigDataProject2023\\main.ipynb Cell 6\u001b[0m line \u001b[0;36m2\n\u001b[0;32m     <a href='vscode-notebook-cell:/c%3A/Users/giaco/Desktop/BigDataProject2023/main.ipynb#W4sZmlsZQ%3D%3D?line=23'>24</a>\u001b[0m     lista\u001b[39m.\u001b[39mappend(w)\n\u001b[0;32m     <a href='vscode-notebook-cell:/c%3A/Users/giaco/Desktop/BigDataProject2023/main.ipynb#W4sZmlsZQ%3D%3D?line=26'>27</a>\u001b[0m ww \u001b[39m=\u001b[39m sc\u001b[39m.\u001b[39mparallelize(lista)\n\u001b[1;32m---> <a href='vscode-notebook-cell:/c%3A/Users/giaco/Desktop/BigDataProject2023/main.ipynb#W4sZmlsZQ%3D%3D?line=27'>28</a>\u001b[0m ww\u001b[39m.\u001b[39;49mflatMap(\u001b[39mlambda\u001b[39;49;00m x : (x[\u001b[39m0\u001b[39;49m], x[\u001b[39m1\u001b[39;49m]))\u001b[39m.\u001b[39;49mreduceByKey(\u001b[39mlambda\u001b[39;49;00m v1, v2: v1\u001b[39m+\u001b[39;49mv2)\u001b[39m.\u001b[39;49msortByKey(\u001b[39mFalse\u001b[39;49;00m)\n\u001b[0;32m     <a href='vscode-notebook-cell:/c%3A/Users/giaco/Desktop/BigDataProject2023/main.ipynb#W4sZmlsZQ%3D%3D?line=28'>29</a>\u001b[0m \u001b[39mprint\u001b[39m(\u001b[39mf\u001b[39m\u001b[39m\"\u001b[39m\u001b[39m{\u001b[39;00mauthors[i]\u001b[39m}\u001b[39;00m\u001b[39m \u001b[39m\u001b[39m{\u001b[39;00mww\u001b[39m.\u001b[39mtake(\u001b[39m100\u001b[39m)\u001b[39m}\u001b[39;00m\u001b[39m\"\u001b[39m)\n\u001b[0;32m     <a href='vscode-notebook-cell:/c%3A/Users/giaco/Desktop/BigDataProject2023/main.ipynb#W4sZmlsZQ%3D%3D?line=29'>30</a>\u001b[0m lista \u001b[39m=\u001b[39m []\n",
      "File \u001b[1;32mc:\\Users\\giaco\\anaconda3\\envs\\BigData\\lib\\site-packages\\pyspark\\rdd.py:779\u001b[0m, in \u001b[0;36mRDD.sortByKey\u001b[1;34m(self, ascending, numPartitions, keyfunc)\u001b[0m\n\u001b[0;32m    774\u001b[0m     \u001b[39mreturn\u001b[39;00m \u001b[39mself\u001b[39m\u001b[39m.\u001b[39mmapPartitions(sortPartition, \u001b[39mTrue\u001b[39;00m)\n\u001b[0;32m    776\u001b[0m \u001b[39m# first compute the boundary of each part via sampling: we want to partition\u001b[39;00m\n\u001b[0;32m    777\u001b[0m \u001b[39m# the key-space into bins such that the bins have roughly the same\u001b[39;00m\n\u001b[0;32m    778\u001b[0m \u001b[39m# number of (key, value) pairs falling into them\u001b[39;00m\n\u001b[1;32m--> 779\u001b[0m rddSize \u001b[39m=\u001b[39m \u001b[39mself\u001b[39;49m\u001b[39m.\u001b[39;49mcount()\n\u001b[0;32m    780\u001b[0m \u001b[39mif\u001b[39;00m \u001b[39mnot\u001b[39;00m rddSize:\n\u001b[0;32m    781\u001b[0m     \u001b[39mreturn\u001b[39;00m \u001b[39mself\u001b[39m  \u001b[39m# empty RDD\u001b[39;00m\n",
      "File \u001b[1;32mc:\\Users\\giaco\\anaconda3\\envs\\BigData\\lib\\site-packages\\pyspark\\rdd.py:1237\u001b[0m, in \u001b[0;36mRDD.count\u001b[1;34m(self)\u001b[0m\n\u001b[0;32m   1228\u001b[0m \u001b[39mdef\u001b[39;00m \u001b[39mcount\u001b[39m(\u001b[39mself\u001b[39m):\n\u001b[0;32m   1229\u001b[0m \u001b[39m    \u001b[39m\u001b[39m\"\"\"\u001b[39;00m\n\u001b[0;32m   1230\u001b[0m \u001b[39m    Return the number of elements in this RDD.\u001b[39;00m\n\u001b[0;32m   1231\u001b[0m \n\u001b[1;32m   (...)\u001b[0m\n\u001b[0;32m   1235\u001b[0m \u001b[39m    3\u001b[39;00m\n\u001b[0;32m   1236\u001b[0m \u001b[39m    \"\"\"\u001b[39;00m\n\u001b[1;32m-> 1237\u001b[0m     \u001b[39mreturn\u001b[39;00m \u001b[39mself\u001b[39;49m\u001b[39m.\u001b[39;49mmapPartitions(\u001b[39mlambda\u001b[39;49;00m i: [\u001b[39msum\u001b[39;49m(\u001b[39m1\u001b[39;49m \u001b[39mfor\u001b[39;49;00m _ \u001b[39min\u001b[39;49;00m i)])\u001b[39m.\u001b[39;49msum()\n",
      "File \u001b[1;32mc:\\Users\\giaco\\anaconda3\\envs\\BigData\\lib\\site-packages\\pyspark\\rdd.py:1226\u001b[0m, in \u001b[0;36mRDD.sum\u001b[1;34m(self)\u001b[0m\n\u001b[0;32m   1217\u001b[0m \u001b[39mdef\u001b[39;00m \u001b[39msum\u001b[39m(\u001b[39mself\u001b[39m):\n\u001b[0;32m   1218\u001b[0m \u001b[39m    \u001b[39m\u001b[39m\"\"\"\u001b[39;00m\n\u001b[0;32m   1219\u001b[0m \u001b[39m    Add up the elements in this RDD.\u001b[39;00m\n\u001b[0;32m   1220\u001b[0m \n\u001b[1;32m   (...)\u001b[0m\n\u001b[0;32m   1224\u001b[0m \u001b[39m    6.0\u001b[39;00m\n\u001b[0;32m   1225\u001b[0m \u001b[39m    \"\"\"\u001b[39;00m\n\u001b[1;32m-> 1226\u001b[0m     \u001b[39mreturn\u001b[39;00m \u001b[39mself\u001b[39;49m\u001b[39m.\u001b[39;49mmapPartitions(\u001b[39mlambda\u001b[39;49;00m x: [\u001b[39msum\u001b[39;49m(x)])\u001b[39m.\u001b[39;49mfold(\u001b[39m0\u001b[39;49m, operator\u001b[39m.\u001b[39;49madd)\n",
      "File \u001b[1;32mc:\\Users\\giaco\\anaconda3\\envs\\BigData\\lib\\site-packages\\pyspark\\rdd.py:1080\u001b[0m, in \u001b[0;36mRDD.fold\u001b[1;34m(self, zeroValue, op)\u001b[0m\n\u001b[0;32m   1076\u001b[0m     \u001b[39myield\u001b[39;00m acc\n\u001b[0;32m   1077\u001b[0m \u001b[39m# collecting result of mapPartitions here ensures that the copy of\u001b[39;00m\n\u001b[0;32m   1078\u001b[0m \u001b[39m# zeroValue provided to each partition is unique from the one provided\u001b[39;00m\n\u001b[0;32m   1079\u001b[0m \u001b[39m# to the final reduce call\u001b[39;00m\n\u001b[1;32m-> 1080\u001b[0m vals \u001b[39m=\u001b[39m \u001b[39mself\u001b[39;49m\u001b[39m.\u001b[39;49mmapPartitions(func)\u001b[39m.\u001b[39;49mcollect()\n\u001b[0;32m   1081\u001b[0m \u001b[39mreturn\u001b[39;00m reduce(op, vals, zeroValue)\n",
      "File \u001b[1;32mc:\\Users\\giaco\\anaconda3\\envs\\BigData\\lib\\site-packages\\pyspark\\rdd.py:950\u001b[0m, in \u001b[0;36mRDD.collect\u001b[1;34m(self)\u001b[0m\n\u001b[0;32m    941\u001b[0m \u001b[39m\u001b[39m\u001b[39m\"\"\"\u001b[39;00m\n\u001b[0;32m    942\u001b[0m \u001b[39mReturn a list that contains all of the elements in this RDD.\u001b[39;00m\n\u001b[0;32m    943\u001b[0m \n\u001b[1;32m   (...)\u001b[0m\n\u001b[0;32m    947\u001b[0m \u001b[39mto be small, as all the data is loaded into the driver's memory.\u001b[39;00m\n\u001b[0;32m    948\u001b[0m \u001b[39m\"\"\"\u001b[39;00m\n\u001b[0;32m    949\u001b[0m \u001b[39mwith\u001b[39;00m SCCallSiteSync(\u001b[39mself\u001b[39m\u001b[39m.\u001b[39mcontext) \u001b[39mas\u001b[39;00m css:\n\u001b[1;32m--> 950\u001b[0m     sock_info \u001b[39m=\u001b[39m \u001b[39mself\u001b[39;49m\u001b[39m.\u001b[39;49mctx\u001b[39m.\u001b[39;49m_jvm\u001b[39m.\u001b[39;49mPythonRDD\u001b[39m.\u001b[39;49mcollectAndServe(\u001b[39mself\u001b[39;49m\u001b[39m.\u001b[39;49m_jrdd\u001b[39m.\u001b[39;49mrdd())\n\u001b[0;32m    951\u001b[0m \u001b[39mreturn\u001b[39;00m \u001b[39mlist\u001b[39m(_load_from_socket(sock_info, \u001b[39mself\u001b[39m\u001b[39m.\u001b[39m_jrdd_deserializer))\n",
      "File \u001b[1;32mc:\\Users\\giaco\\anaconda3\\envs\\BigData\\lib\\site-packages\\py4j\\java_gateway.py:1320\u001b[0m, in \u001b[0;36mJavaMember.__call__\u001b[1;34m(self, *args)\u001b[0m\n\u001b[0;32m   1313\u001b[0m args_command, temp_args \u001b[39m=\u001b[39m \u001b[39mself\u001b[39m\u001b[39m.\u001b[39m_build_args(\u001b[39m*\u001b[39margs)\n\u001b[0;32m   1315\u001b[0m command \u001b[39m=\u001b[39m proto\u001b[39m.\u001b[39mCALL_COMMAND_NAME \u001b[39m+\u001b[39m\\\n\u001b[0;32m   1316\u001b[0m     \u001b[39mself\u001b[39m\u001b[39m.\u001b[39mcommand_header \u001b[39m+\u001b[39m\\\n\u001b[0;32m   1317\u001b[0m     args_command \u001b[39m+\u001b[39m\\\n\u001b[0;32m   1318\u001b[0m     proto\u001b[39m.\u001b[39mEND_COMMAND_PART\n\u001b[1;32m-> 1320\u001b[0m answer \u001b[39m=\u001b[39m \u001b[39mself\u001b[39;49m\u001b[39m.\u001b[39;49mgateway_client\u001b[39m.\u001b[39;49msend_command(command)\n\u001b[0;32m   1321\u001b[0m return_value \u001b[39m=\u001b[39m get_return_value(\n\u001b[0;32m   1322\u001b[0m     answer, \u001b[39mself\u001b[39m\u001b[39m.\u001b[39mgateway_client, \u001b[39mself\u001b[39m\u001b[39m.\u001b[39mtarget_id, \u001b[39mself\u001b[39m\u001b[39m.\u001b[39mname)\n\u001b[0;32m   1324\u001b[0m \u001b[39mfor\u001b[39;00m temp_arg \u001b[39min\u001b[39;00m temp_args:\n",
      "File \u001b[1;32mc:\\Users\\giaco\\anaconda3\\envs\\BigData\\lib\\site-packages\\py4j\\java_gateway.py:1038\u001b[0m, in \u001b[0;36mGatewayClient.send_command\u001b[1;34m(self, command, retry, binary)\u001b[0m\n\u001b[0;32m   1036\u001b[0m connection \u001b[39m=\u001b[39m \u001b[39mself\u001b[39m\u001b[39m.\u001b[39m_get_connection()\n\u001b[0;32m   1037\u001b[0m \u001b[39mtry\u001b[39;00m:\n\u001b[1;32m-> 1038\u001b[0m     response \u001b[39m=\u001b[39m connection\u001b[39m.\u001b[39;49msend_command(command)\n\u001b[0;32m   1039\u001b[0m     \u001b[39mif\u001b[39;00m binary:\n\u001b[0;32m   1040\u001b[0m         \u001b[39mreturn\u001b[39;00m response, \u001b[39mself\u001b[39m\u001b[39m.\u001b[39m_create_connection_guard(connection)\n",
      "File \u001b[1;32mc:\\Users\\giaco\\anaconda3\\envs\\BigData\\lib\\site-packages\\py4j\\clientserver.py:475\u001b[0m, in \u001b[0;36mClientServerConnection.send_command\u001b[1;34m(self, command)\u001b[0m\n\u001b[0;32m    473\u001b[0m \u001b[39mtry\u001b[39;00m:\n\u001b[0;32m    474\u001b[0m     \u001b[39mwhile\u001b[39;00m \u001b[39mTrue\u001b[39;00m:\n\u001b[1;32m--> 475\u001b[0m         answer \u001b[39m=\u001b[39m smart_decode(\u001b[39mself\u001b[39;49m\u001b[39m.\u001b[39;49mstream\u001b[39m.\u001b[39;49mreadline()[:\u001b[39m-\u001b[39m\u001b[39m1\u001b[39m])\n\u001b[0;32m    476\u001b[0m         logger\u001b[39m.\u001b[39mdebug(\u001b[39m\"\u001b[39m\u001b[39mAnswer received: \u001b[39m\u001b[39m{0}\u001b[39;00m\u001b[39m\"\u001b[39m\u001b[39m.\u001b[39mformat(answer))\n\u001b[0;32m    477\u001b[0m         \u001b[39m# Happens when a the other end is dead. There might be an empty\u001b[39;00m\n\u001b[0;32m    478\u001b[0m         \u001b[39m# answer before the socket raises an error.\u001b[39;00m\n",
      "File \u001b[1;32mc:\\Users\\giaco\\anaconda3\\envs\\BigData\\lib\\socket.py:705\u001b[0m, in \u001b[0;36mSocketIO.readinto\u001b[1;34m(self, b)\u001b[0m\n\u001b[0;32m    703\u001b[0m \u001b[39mwhile\u001b[39;00m \u001b[39mTrue\u001b[39;00m:\n\u001b[0;32m    704\u001b[0m     \u001b[39mtry\u001b[39;00m:\n\u001b[1;32m--> 705\u001b[0m         \u001b[39mreturn\u001b[39;00m \u001b[39mself\u001b[39;49m\u001b[39m.\u001b[39;49m_sock\u001b[39m.\u001b[39;49mrecv_into(b)\n\u001b[0;32m    706\u001b[0m     \u001b[39mexcept\u001b[39;00m timeout:\n\u001b[0;32m    707\u001b[0m         \u001b[39mself\u001b[39m\u001b[39m.\u001b[39m_timeout_occurred \u001b[39m=\u001b[39m \u001b[39mTrue\u001b[39;00m\n",
      "\u001b[1;31mKeyboardInterrupt\u001b[0m: "
     ]
    }
   ],
   "source": [
    "def wordCount(file_path):\n",
    "    words = sc.textFile(file_path).filter(bool) \\\n",
    "                .flatMap(lambda line: line.split(\" \")) \\\n",
    "                .map(lambda w: w.lower()) \\\n",
    "                .map(lambda w: (w, 1)) \\\n",
    "                .reduceByKey(lambda v1, v2: v1 + v2) \\\n",
    "                .map(lambda x: (x[1], x[0])) \\\n",
    "                .sortByKey(False)\n",
    "    result = words\n",
    "\n",
    "    return result\n",
    "\n",
    "\n",
    "allWordsForAnAuthors = []\n",
    "\n",
    "for i in range(len(authors)):\n",
    "    for j in range(8,len(books[i])):\n",
    "        input_filename = os.path.join(my_dir, authors[i])\n",
    "        input_filename = os.path.join(input_filename, books[i][j])\n",
    "        print(input_filename)\n",
    "        wordsOfABook= wordCount(input_filename)\n",
    "        \n",
    "        allWordsForAnAuthors.append(wordsOfABook)\n",
    "\n",
    "\n",
    "    allWordsForAnAuthors = sc.parallelize(allWordsForAnAuthors)\n",
    "    allWordsForAnAuthors.flatMap(lambda x : (x[0], x[1])).reduceByKey(lambda v1, v2: v1+v2).sortByKey(False)\n",
    "    print(f\"{authors[i]} {allWordsForAnAuthors.take(100)}\")\n",
    "    allWordsForAnAuthors = []\n",
    "\n"
   ]
  }
 ],
 "metadata": {
  "kernelspec": {
   "display_name": "BigData",
   "language": "python",
   "name": "python3"
  },
  "language_info": {
   "codemirror_mode": {
    "name": "ipython",
    "version": 3
   },
   "file_extension": ".py",
   "mimetype": "text/x-python",
   "name": "python",
   "nbconvert_exporter": "python",
   "pygments_lexer": "ipython3",
   "version": "3.10.10"
  },
  "orig_nbformat": 4
 },
 "nbformat": 4,
 "nbformat_minor": 2
}
