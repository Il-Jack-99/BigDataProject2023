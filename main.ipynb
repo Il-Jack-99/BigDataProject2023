{
 "cells": [
  {
   "cell_type": "code",
   "execution_count": 3,
   "metadata": {},
   "outputs": [],
   "source": [
    "import pyspark\n",
    "import os\n",
    "import pickle\n",
    "\n",
    "sc = pyspark.SparkContext(appName=\"BigDataProject\")"
   ]
  },
  {
   "cell_type": "code",
   "execution_count": 4,
   "metadata": {},
   "outputs": [],
   "source": [
    "my_dir = \"./BooksDataset\"\n",
    "readFromSavedFile = True"
   ]
  },
  {
   "cell_type": "code",
   "execution_count": 5,
   "metadata": {},
   "outputs": [
    {
     "data": {
      "text/html": [
       "\n",
       "        <div>\n",
       "            <p><b>SparkContext</b></p>\n",
       "\n",
       "            <p><a href=\"http://GiacomoPC:4040\">Spark UI</a></p>\n",
       "\n",
       "            <dl>\n",
       "              <dt>Version</dt>\n",
       "                <dd><code>v3.2.1</code></dd>\n",
       "              <dt>Master</dt>\n",
       "                <dd><code>local[*]</code></dd>\n",
       "              <dt>AppName</dt>\n",
       "                <dd><code>BigDataProject</code></dd>\n",
       "            </dl>\n",
       "        </div>\n",
       "        "
      ],
      "text/plain": [
       "<SparkContext master=local[*] appName=BigDataProject>"
      ]
     },
     "execution_count": 5,
     "metadata": {},
     "output_type": "execute_result"
    }
   ],
   "source": [
    "sc"
   ]
  },
  {
   "cell_type": "code",
   "execution_count": 6,
   "metadata": {},
   "outputs": [],
   "source": [
    "#Read Authors\n",
    "\n",
    "if not(readFromSavedFile):\n",
    "    authors = []\n",
    "\n",
    "    for file in os.listdir(my_dir):\n",
    "        d = os.path.join(my_dir, file)\n",
    "        if os.path.isdir(d):\n",
    "            res = file\n",
    "            authors.append(res)\n",
    "    print(authors)\n",
    "\n",
    "    sc.parallelize(authors).saveAsTextFile(\"./RDD/AuthorsName\")\n"
   ]
  },
  {
   "cell_type": "code",
   "execution_count": 7,
   "metadata": {},
   "outputs": [],
   "source": [
    "#Read Books per Authors\n",
    "if not(readFromSavedFile):\n",
    "    books = [[] for _ in range(len(authors))]\n",
    "\n",
    "\n",
    "    for i in range(len(authors)):\n",
    "        mydiraut = my_dir+\"/\"+authors[i]\n",
    "        for file in os.listdir(mydiraut):\n",
    "            d = os.path.join(mydiraut, file)\n",
    "            books[i].append(file)\n",
    "\n",
    "    print(books)\n",
    "\n",
    "    sc.parallelize(books).saveAsTextFile(\"./RDD/BooksName\")"
   ]
  },
  {
   "cell_type": "code",
   "execution_count": 8,
   "metadata": {},
   "outputs": [],
   "source": [
    "def wordCount(file_path):\n",
    "    words = sc.textFile(file_path).filter(bool) \\\n",
    "                .flatMap(lambda line: line.split(\" \")) \\\n",
    "                .map(lambda w: w.lower()) \\\n",
    "                .map(lambda w: (w, 1)) \\\n",
    "                .reduceByKey(lambda v1, v2: v1 + v2) \\\n",
    "                .map(lambda x: (x[1], x[0])) \\\n",
    "                .sortByKey(False)\n",
    "    result = words.collect()\n",
    "\n",
    "    return result\n",
    "\n",
    "\n",
    "if not(readFromSavedFile):\n",
    "    allWordsForAnAuthors = []\n",
    "\n",
    "    for i in range(2,len(authors)):\n",
    "        for j in range(len(books[i])):\n",
    "            input_filename = os.path.join(my_dir, authors[i])\n",
    "            input_filename = os.path.join(input_filename, books[i][j])\n",
    "            print(input_filename)\n",
    "            wordsOfABook= wordCount(input_filename)\n",
    "            \n",
    "            allWordsForAnAuthors.append(wordsOfABook)\n",
    "\n",
    "\n",
    "        allWordsForAnAuthors = sc.parallelize(allWordsForAnAuthors)\n",
    "        allWordsForAnAuthors.flatMap(lambda x : (x[0], x[1])).reduceByKey(lambda v1, v2: v1+v2).sortByKey(False)\n",
    "        allWordsForAnAuthors.saveAsTextFile('./RDD/'+authors[i])\n",
    "        \n",
    "        \n",
    "\n",
    "        print(f\"{authors[i]} {allWordsForAnAuthors.take(100)}\")\n",
    "        allWordsForAnAuthors = []\n",
    "\n"
   ]
  },
  {
   "cell_type": "code",
   "execution_count": 9,
   "metadata": {},
   "outputs": [
    {
     "name": "stdout",
     "output_type": "stream",
     "text": [
      "Arthur Conan Doyle\n",
      "Charles Dickens\n",
      "Daniel Defoe\n",
      "Edith Wharton\n",
      "Jane Austen\n",
      "Joseph Conrad\n",
      "Lewis Carroll\n",
      "Louisa May Alcott\n",
      "Voltaire\n",
      "William Shakespeare\n"
     ]
    }
   ],
   "source": [
    "#Leggo gli rdd\n",
    "listOfAuthors = sc.textFile(\"./RDD/AuthorsName/*\")\n",
    "listOfBooks = sc.textFile(\"./RDD/BooksName/*\")\n",
    "\n",
    "authors = listOfAuthors.collect()\n",
    "n_authors = len(authors)\n",
    "#wordsCountAuthors = [[] for _ in range(n_authors)]\n",
    "wordsCountAuthors = []\n",
    "\n",
    "for i in range(n_authors):\n",
    "    print(authors[i])\n",
    "    tmp = f\"./RDD/Books/{authors[i]}/*\"\n",
    "    rdd_i = sc.textFile(tmp).collect()\n",
    "    wordsCountAuthors.append(rdd_i)\n",
    "\n",
    "#wordsCountAuthors = sc.textFile(\"./RDD/Books/*/*\")"
   ]
  },
  {
   "cell_type": "code",
   "execution_count": 10,
   "metadata": {},
   "outputs": [
    {
     "name": "stdout",
     "output_type": "stream",
     "text": [
      "10\n"
     ]
    }
   ],
   "source": [
    "print(len(wordsCountAuthors))\n",
    "for i in range(10):\n",
    "    wordsCountAuthors[i] = sc.parallelize(wordsCountAuthors[i])"
   ]
  },
  {
   "cell_type": "code",
   "execution_count": 62,
   "metadata": {},
   "outputs": [],
   "source": [
    "rdd_list = [[] for _ in range(10)]\n",
    "for i in range(10):\n",
    "    for w in wordsCountAuthors[i].collect():\n",
    "        cleaned_string = w.replace('[', '').replace(']', '').replace('(', '').replace(')', '').replace(\"'\", '')\n",
    "\n",
    "        word_list = cleaned_string.split(', ')\n",
    "\n",
    "        tuple_list = [(word_list[i], word_list[i + 1]) for i in range(0, len(word_list), 2)]\n",
    "\n",
    "        rdd_list[i].append(sc.parallelize(tuple_list))\n",
    "        #print(type(tuple_list))\n"
   ]
  },
  {
   "cell_type": "code",
   "execution_count": 69,
   "metadata": {},
   "outputs": [
    {
     "data": {
      "text/plain": [
       "[('1839', 'the'),\n",
       " ('1181', 'and'),\n",
       " ('988', 'a'),\n",
       " ('909', 'to'),\n",
       " ('883', 'of'),\n",
       " ('674', 'i'),\n",
       " ('534', 'you'),\n",
       " ('532', 'in'),\n",
       " ('506', 'that'),\n",
       " ('460', 'it'),\n",
       " ('440', 'his'),\n",
       " ('435', 'is'),\n",
       " ('433', 'was'),\n",
       " ('398', 'he'),\n",
       " ('396', 'her'),\n",
       " ('330', 'with'),\n",
       " ('302', 'have'),\n",
       " ('291', 'as'),\n",
       " ('291', 'had'),\n",
       " ('276', 'she'),\n",
       " ('266', 'for'),\n",
       " ('232', 'be'),\n",
       " ('227', 'at'),\n",
       " ('226', 'but'),\n",
       " ('212', 'not'),\n",
       " ('205', 'my'),\n",
       " ('194', 'which'),\n",
       " ('173', 'we'),\n",
       " ('172', 'from'),\n",
       " ('165', 'all'),\n",
       " ('154', 'would'),\n",
       " ('153', 'they'),\n",
       " ('153', 'what'),\n",
       " ('152', 'upon'),\n",
       " ('149', 'said'),\n",
       " ('145', 'very'),\n",
       " ('137', '\"i'),\n",
       " ('136', 'so'),\n",
       " ('135', 'are'),\n",
       " ('134', 'this'),\n",
       " ('132', 'your'),\n",
       " ('129', 'there'),\n",
       " ('129', 'were'),\n",
       " ('126', 'do'),\n",
       " ('121', 'will'),\n",
       " ('119', 'one'),\n",
       " ('119', 'on'),\n",
       " ('117', 'little'),\n",
       " ('113', 'their'),\n",
       " ('112', 'if'),\n",
       " ('107', 'up'),\n",
       " ('107', 'him'),\n",
       " ('99', 'who'),\n",
       " ('99', 'should'),\n",
       " ('98', 'when'),\n",
       " ('98', 'me'),\n",
       " ('97', 'out'),\n",
       " ('94', 'two'),\n",
       " ('92', 'must'),\n",
       " ('92', 'could'),\n",
       " ('91', 'been'),\n",
       " ('90', 'am'),\n",
       " ('89', 'by'),\n",
       " ('89', 'can'),\n",
       " ('88', 'has'),\n",
       " ('87', 'no'),\n",
       " ('82', 'think'),\n",
       " ('82', 'man'),\n",
       " ('80', 'mrs.'),\n",
       " ('76', 'or'),\n",
       " ('75', 'an'),\n",
       " ('75', '\"oh,'),\n",
       " ('74', 'about'),\n",
       " ('73', 'know'),\n",
       " ('73', 'into'),\n",
       " ('73', 'shall'),\n",
       " ('72', 'more'),\n",
       " ('72', 'see'),\n",
       " ('72', 'some'),\n",
       " ('70', 'how'),\n",
       " ('68', 'down'),\n",
       " ('66', 'come'),\n",
       " ('65', 'only'),\n",
       " ('63', 'admiral'),\n",
       " ('63', 'then'),\n",
       " ('60', 'than'),\n",
       " ('58', 'over'),\n",
       " ('57', 'like'),\n",
       " ('57', 'doctor'),\n",
       " ('56', 'it.'),\n",
       " ('56', '\"you'),\n",
       " ('55', '\"but'),\n",
       " ('54', '\"dont\"'),\n",
       " ('52', 'old'),\n",
       " ('51', 'westmacott'),\n",
       " ('49', '\"it'),\n",
       " ('47', 'own'),\n",
       " ('47', 'may'),\n",
       " ('47', 'good'),\n",
       " ('47', 'back')]"
      ]
     },
     "execution_count": 69,
     "metadata": {},
     "output_type": "execute_result"
    }
   ],
   "source": [
    "#[Authors][#Books]\n",
    "rdd_list[0][0].take(100)\n"
   ]
  },
  {
   "cell_type": "code",
   "execution_count": null,
   "metadata": {},
   "outputs": [
    {
     "ename": "NameError",
     "evalue": "name 'sc' is not defined",
     "output_type": "error",
     "traceback": [
      "\u001b[1;31m---------------------------------------------------------------------------\u001b[0m",
      "\u001b[1;31mNameError\u001b[0m                                 Traceback (most recent call last)",
      "\u001b[1;32mc:\\Users\\giaco\\Desktop\\BigDataProject2023\\main.ipynb Cell 11\u001b[0m line \u001b[0;36m1\n\u001b[1;32m----> <a href='vscode-notebook-cell:/c%3A/Users/giaco/Desktop/BigDataProject2023/main.ipynb#X13sZmlsZQ%3D%3D?line=0'>1</a>\u001b[0m sc\u001b[39m.\u001b[39mstop()\n",
      "\u001b[1;31mNameError\u001b[0m: name 'sc' is not defined"
     ]
    }
   ],
   "source": [
    "#sc.stop()"
   ]
  },
  {
   "cell_type": "code",
   "execution_count": null,
   "metadata": {},
   "outputs": [
    {
     "data": {
      "text/plain": [
       "10"
      ]
     },
     "execution_count": 70,
     "metadata": {},
     "output_type": "execute_result"
    }
   ],
   "source": [
    "#Possibile soluzione ?\n",
    "prova = [[] for i in range(11)]\n",
    "\n",
    "lista = list(range(10, -1,-1))\n",
    "\n",
    "rddlist = sc.parallelize(lista)\n",
    "\n",
    "for i in range(len(lista)):\n",
    "\n",
    "    prova[i].append(rddlist.collect())\n",
    "\n",
    "\n",
    "prova[0]\n",
    "sc.parallelize(prova)\n",
    "\n",
    "prova[0][0][0]\n",
    "\n",
    "#print(type(rddlist.collect()))"
   ]
  }
 ],
 "metadata": {
  "kernelspec": {
   "display_name": "BigData",
   "language": "python",
   "name": "python3"
  },
  "language_info": {
   "codemirror_mode": {
    "name": "ipython",
    "version": 3
   },
   "file_extension": ".py",
   "mimetype": "text/x-python",
   "name": "python",
   "nbconvert_exporter": "python",
   "pygments_lexer": "ipython3",
   "version": "3.10.10"
  },
  "orig_nbformat": 4
 },
 "nbformat": 4,
 "nbformat_minor": 2
}
